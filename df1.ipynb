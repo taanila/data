{
 "cells": [
  {
   "cell_type": "markdown",
   "metadata": {},
   "source": [
    "# DataFrame\n",
    "\n",
    "Data-analytiikan peruskirjasto on <b>pandas</b>. Vakiintuneen tavan mukaan käytän pandas-kirjastosta lyhennettä <b>pd</b>.\n",
    "\n",
    "Pandas-kirjaston keskeinen olio on <b>DataFrame</b>. Analysoitavat datat avaan DataFrame-olioon ja analyysien tulostaulukot ovat enimmäkseen DataFrame-olioita.\n",
    "\n",
    "Seuraavassa tutustutaan DataFrame-olioon yksinkertaisen esimerkkitaulukkon avulla."
   ]
  },
  {
   "cell_type": "code",
   "execution_count": 1,
   "metadata": {},
   "outputs": [
    {
     "data": {
      "text/html": [
       "<div>\n",
       "<style scoped>\n",
       "    .dataframe tbody tr th:only-of-type {\n",
       "        vertical-align: middle;\n",
       "    }\n",
       "\n",
       "    .dataframe tbody tr th {\n",
       "        vertical-align: top;\n",
       "    }\n",
       "\n",
       "    .dataframe thead th {\n",
       "        text-align: right;\n",
       "    }\n",
       "</style>\n",
       "<table border=\"1\" class=\"dataframe\">\n",
       "  <thead>\n",
       "    <tr style=\"text-align: right;\">\n",
       "      <th></th>\n",
       "      <th>Tuote</th>\n",
       "      <th>Varasto</th>\n",
       "      <th>Hinta</th>\n",
       "    </tr>\n",
       "  </thead>\n",
       "  <tbody>\n",
       "    <tr>\n",
       "      <th>0</th>\n",
       "      <td>muikkukukko</td>\n",
       "      <td>8</td>\n",
       "      <td>15</td>\n",
       "    </tr>\n",
       "    <tr>\n",
       "      <th>1</th>\n",
       "      <td>lanttukukko</td>\n",
       "      <td>10</td>\n",
       "      <td>12</td>\n",
       "    </tr>\n",
       "    <tr>\n",
       "      <th>2</th>\n",
       "      <td>lihalörtsy</td>\n",
       "      <td>5</td>\n",
       "      <td>3</td>\n",
       "    </tr>\n",
       "    <tr>\n",
       "      <th>3</th>\n",
       "      <td>kasvislörtsy</td>\n",
       "      <td>7</td>\n",
       "      <td>3</td>\n",
       "    </tr>\n",
       "  </tbody>\n",
       "</table>\n",
       "</div>"
      ],
      "text/plain": [
       "          Tuote  Varasto  Hinta\n",
       "0   muikkukukko        8     15\n",
       "1   lanttukukko       10     12\n",
       "2    lihalörtsy        5      3\n",
       "3  kasvislörtsy        7      3"
      ]
     },
     "execution_count": 1,
     "metadata": {},
     "output_type": "execute_result"
    }
   ],
   "source": [
    "# Tuon pandas-kirjaston\n",
    "import pandas as pd\n",
    "\n",
    "# Tallennan taulukon  tiedot sanakirjaan (dictionary)\n",
    "#- dictionaryn ympärillä aina aaltosulkeet {}\n",
    "#- listan ympärillä aina hakasulkeet []\n",
    "raw_data = {'Tuote': ['muikkukukko', 'lanttukukko', 'lihalörtsy', 'kasvislörtsy'],\n",
    "            'Varasto': [8, 10, 5, 7],\n",
    "            'Hinta': [15, 12, 3, 3]}\n",
    "\n",
    "# Luon dictionarysta DataFramen, jonka nimeksi annan df\n",
    "df = pd.DataFrame(raw_data, columns = ['Tuote', 'Varasto', 'Hinta'])\n",
    "# Ilman columns-parametria sarakkeet järjestyvät nimen mukaiseen aakkosjärjestykseen\n",
    "\n",
    "# Tulostan dataframen\n",
    "df"
   ]
  },
  {
   "cell_type": "code",
   "execution_count": 2,
   "metadata": {},
   "outputs": [
    {
     "data": {
      "text/plain": [
       "(4, 3)"
      ]
     },
     "execution_count": 2,
     "metadata": {},
     "output_type": "execute_result"
    }
   ],
   "source": [
    "# Dataframen rivien ja sarkkeiden määrä\n",
    "df.shape"
   ]
  },
  {
   "cell_type": "code",
   "execution_count": 3,
   "metadata": {},
   "outputs": [
    {
     "data": {
      "text/plain": [
       "RangeIndex(start=0, stop=4, step=1)"
      ]
     },
     "execution_count": 3,
     "metadata": {},
     "output_type": "execute_result"
    }
   ],
   "source": [
    "# Rivi-indeksi (dataframen vasemmassa reunassa)\n",
    "df.index"
   ]
  },
  {
   "cell_type": "code",
   "execution_count": 4,
   "metadata": {},
   "outputs": [
    {
     "data": {
      "text/plain": [
       "Index(['Tuote', 'Varasto', 'Hinta'], dtype='object')"
      ]
     },
     "execution_count": 4,
     "metadata": {},
     "output_type": "execute_result"
    }
   ],
   "source": [
    "# Sarakeindeksi\n",
    "df.columns"
   ]
  },
  {
   "cell_type": "markdown",
   "metadata": {},
   "source": [
    "<h2>Indeksihaku iloc</h2>\n",
    "\n",
    "Voin viitata dataframen yksittäisiin soluihin indeksinumeroilla. Huomaa, että indeksinumerot alkavat numerosta 0!"
   ]
  },
  {
   "cell_type": "code",
   "execution_count": 5,
   "metadata": {},
   "outputs": [
    {
     "data": {
      "text/plain": [
       "12"
      ]
     },
     "execution_count": 5,
     "metadata": {},
     "output_type": "execute_result"
    }
   ],
   "source": [
    "# Lanttukukon hinta indeksihaulla (1 = lanttukukon rivi, 2 = hinta-sarake)\n",
    "df.iloc[1, 2]"
   ]
  },
  {
   "cell_type": "code",
   "execution_count": 6,
   "metadata": {},
   "outputs": [
    {
     "data": {
      "text/plain": [
       "Tuote      lihalörtsy\n",
       "Varasto             5\n",
       "Hinta               3\n",
       "Name: 2, dtype: object"
      ]
     },
     "execution_count": 6,
     "metadata": {},
     "output_type": "execute_result"
    }
   ],
   "source": [
    "# Tiedot lihalörtsyn riviltä (2)\n",
    "df.iloc[2]"
   ]
  },
  {
   "cell_type": "markdown",
   "metadata": {},
   "source": [
    "<h2>Haku indeksin tunnuksella loc</h2>\n",
    "\n",
    "Voin viitata dataframen yksittäisiin soluihin indeksien tunnuksilla."
   ]
  },
  {
   "cell_type": "code",
   "execution_count": 7,
   "metadata": {},
   "outputs": [
    {
     "data": {
      "text/html": [
       "<div>\n",
       "<style scoped>\n",
       "    .dataframe tbody tr th:only-of-type {\n",
       "        vertical-align: middle;\n",
       "    }\n",
       "\n",
       "    .dataframe tbody tr th {\n",
       "        vertical-align: top;\n",
       "    }\n",
       "\n",
       "    .dataframe thead th {\n",
       "        text-align: right;\n",
       "    }\n",
       "</style>\n",
       "<table border=\"1\" class=\"dataframe\">\n",
       "  <thead>\n",
       "    <tr style=\"text-align: right;\">\n",
       "      <th></th>\n",
       "      <th>Varasto</th>\n",
       "      <th>Hinta</th>\n",
       "    </tr>\n",
       "    <tr>\n",
       "      <th>Tuote</th>\n",
       "      <th></th>\n",
       "      <th></th>\n",
       "    </tr>\n",
       "  </thead>\n",
       "  <tbody>\n",
       "    <tr>\n",
       "      <th>muikkukukko</th>\n",
       "      <td>8</td>\n",
       "      <td>15</td>\n",
       "    </tr>\n",
       "    <tr>\n",
       "      <th>lanttukukko</th>\n",
       "      <td>10</td>\n",
       "      <td>12</td>\n",
       "    </tr>\n",
       "    <tr>\n",
       "      <th>lihalörtsy</th>\n",
       "      <td>5</td>\n",
       "      <td>3</td>\n",
       "    </tr>\n",
       "    <tr>\n",
       "      <th>kasvislörtsy</th>\n",
       "      <td>7</td>\n",
       "      <td>3</td>\n",
       "    </tr>\n",
       "  </tbody>\n",
       "</table>\n",
       "</div>"
      ],
      "text/plain": [
       "              Varasto  Hinta\n",
       "Tuote                       \n",
       "muikkukukko         8     15\n",
       "lanttukukko        10     12\n",
       "lihalörtsy          5      3\n",
       "kasvislörtsy        7      3"
      ]
     },
     "execution_count": 7,
     "metadata": {},
     "output_type": "execute_result"
    }
   ],
   "source": [
    "# Siirrän tuote-sarakkeen arvot rivi-indeksin arvoiksi\n",
    "df = df.set_index('Tuote')\n",
    "df"
   ]
  },
  {
   "cell_type": "code",
   "execution_count": 8,
   "metadata": {},
   "outputs": [
    {
     "data": {
      "text/plain": [
       "Varasto    5\n",
       "Hinta      3\n",
       "Name: lihalörtsy, dtype: int64"
      ]
     },
     "execution_count": 8,
     "metadata": {},
     "output_type": "execute_result"
    }
   ],
   "source": [
    "# Lihalörtsyn tiedot\n",
    "df.loc['lihalörtsy']"
   ]
  },
  {
   "cell_type": "code",
   "execution_count": 9,
   "metadata": {},
   "outputs": [
    {
     "data": {
      "text/plain": [
       "3"
      ]
     },
     "execution_count": 9,
     "metadata": {},
     "output_type": "execute_result"
    }
   ],
   "source": [
    "# Lihalörtsyn hinta\n",
    "df.loc['lihalörtsy','Hinta']"
   ]
  },
  {
   "cell_type": "code",
   "execution_count": 10,
   "metadata": {},
   "outputs": [
    {
     "data": {
      "text/plain": [
       "Tuote\n",
       "muikkukukko    15\n",
       "lanttukukko    12\n",
       "Name: Hinta, dtype: int64"
      ]
     },
     "execution_count": 10,
     "metadata": {},
     "output_type": "execute_result"
    }
   ],
   "source": [
    "# Hintatiedot muikkukukosta lanttukukkoon\n",
    "df.loc['muikkukukko' : 'lanttukukko', 'Hinta']"
   ]
  },
  {
   "cell_type": "markdown",
   "metadata": {},
   "source": [
    "<h2>Hieman laskentaa</h2>\n",
    "\n",
    "Voin laskea dataframeen uusia sarakkeita olemassaolevien sarakkeiden pohjalta."
   ]
  },
  {
   "cell_type": "code",
   "execution_count": 11,
   "metadata": {},
   "outputs": [
    {
     "data": {
      "text/html": [
       "<div>\n",
       "<style scoped>\n",
       "    .dataframe tbody tr th:only-of-type {\n",
       "        vertical-align: middle;\n",
       "    }\n",
       "\n",
       "    .dataframe tbody tr th {\n",
       "        vertical-align: top;\n",
       "    }\n",
       "\n",
       "    .dataframe thead th {\n",
       "        text-align: right;\n",
       "    }\n",
       "</style>\n",
       "<table border=\"1\" class=\"dataframe\">\n",
       "  <thead>\n",
       "    <tr style=\"text-align: right;\">\n",
       "      <th></th>\n",
       "      <th>Varasto</th>\n",
       "      <th>Hinta</th>\n",
       "      <th>Arvo</th>\n",
       "    </tr>\n",
       "    <tr>\n",
       "      <th>Tuote</th>\n",
       "      <th></th>\n",
       "      <th></th>\n",
       "      <th></th>\n",
       "    </tr>\n",
       "  </thead>\n",
       "  <tbody>\n",
       "    <tr>\n",
       "      <th>muikkukukko</th>\n",
       "      <td>8</td>\n",
       "      <td>15</td>\n",
       "      <td>120</td>\n",
       "    </tr>\n",
       "    <tr>\n",
       "      <th>lanttukukko</th>\n",
       "      <td>10</td>\n",
       "      <td>12</td>\n",
       "      <td>120</td>\n",
       "    </tr>\n",
       "    <tr>\n",
       "      <th>lihalörtsy</th>\n",
       "      <td>5</td>\n",
       "      <td>3</td>\n",
       "      <td>15</td>\n",
       "    </tr>\n",
       "    <tr>\n",
       "      <th>kasvislörtsy</th>\n",
       "      <td>7</td>\n",
       "      <td>3</td>\n",
       "      <td>21</td>\n",
       "    </tr>\n",
       "  </tbody>\n",
       "</table>\n",
       "</div>"
      ],
      "text/plain": [
       "              Varasto  Hinta  Arvo\n",
       "Tuote                             \n",
       "muikkukukko         8     15   120\n",
       "lanttukukko        10     12   120\n",
       "lihalörtsy          5      3    15\n",
       "kasvislörtsy        7      3    21"
      ]
     },
     "execution_count": 11,
     "metadata": {},
     "output_type": "execute_result"
    }
   ],
   "source": [
    "# Lasken tuotteiden varastoarvot Arvo-sarkkeeseen\n",
    "df['Arvo'] = df['Varasto'] * df['Hinta']  \n",
    "df"
   ]
  },
  {
   "cell_type": "code",
   "execution_count": 12,
   "metadata": {},
   "outputs": [
    {
     "data": {
      "text/plain": [
       "276"
      ]
     },
     "execution_count": 12,
     "metadata": {},
     "output_type": "execute_result"
    }
   ],
   "source": [
    "# Lasken summan Arvo-sarakkeesta\n",
    "df['Arvo'].sum()"
   ]
  },
  {
   "cell_type": "code",
   "execution_count": 13,
   "metadata": {},
   "outputs": [
    {
     "data": {
      "text/plain": [
       "240"
      ]
     },
     "execution_count": 13,
     "metadata": {},
     "output_type": "execute_result"
    }
   ],
   "source": [
    "# Kukkojen varastoarvo\n",
    "df.loc['muikkukukko':'lanttukukko', 'Arvo'].sum()"
   ]
  },
  {
   "cell_type": "code",
   "execution_count": 14,
   "metadata": {},
   "outputs": [
    {
     "data": {
      "text/html": [
       "<div>\n",
       "<style scoped>\n",
       "    .dataframe tbody tr th:only-of-type {\n",
       "        vertical-align: middle;\n",
       "    }\n",
       "\n",
       "    .dataframe tbody tr th {\n",
       "        vertical-align: top;\n",
       "    }\n",
       "\n",
       "    .dataframe thead th {\n",
       "        text-align: right;\n",
       "    }\n",
       "</style>\n",
       "<table border=\"1\" class=\"dataframe\">\n",
       "  <thead>\n",
       "    <tr style=\"text-align: right;\">\n",
       "      <th></th>\n",
       "      <th>Varasto</th>\n",
       "      <th>Hinta</th>\n",
       "      <th>Arvo</th>\n",
       "      <th>%</th>\n",
       "    </tr>\n",
       "    <tr>\n",
       "      <th>Tuote</th>\n",
       "      <th></th>\n",
       "      <th></th>\n",
       "      <th></th>\n",
       "      <th></th>\n",
       "    </tr>\n",
       "  </thead>\n",
       "  <tbody>\n",
       "    <tr>\n",
       "      <th>muikkukukko</th>\n",
       "      <td>8</td>\n",
       "      <td>15</td>\n",
       "      <td>120</td>\n",
       "      <td>43.478261</td>\n",
       "    </tr>\n",
       "    <tr>\n",
       "      <th>lanttukukko</th>\n",
       "      <td>10</td>\n",
       "      <td>12</td>\n",
       "      <td>120</td>\n",
       "      <td>43.478261</td>\n",
       "    </tr>\n",
       "    <tr>\n",
       "      <th>lihalörtsy</th>\n",
       "      <td>5</td>\n",
       "      <td>3</td>\n",
       "      <td>15</td>\n",
       "      <td>5.434783</td>\n",
       "    </tr>\n",
       "    <tr>\n",
       "      <th>kasvislörtsy</th>\n",
       "      <td>7</td>\n",
       "      <td>3</td>\n",
       "      <td>21</td>\n",
       "      <td>7.608696</td>\n",
       "    </tr>\n",
       "  </tbody>\n",
       "</table>\n",
       "</div>"
      ],
      "text/plain": [
       "              Varasto  Hinta  Arvo          %\n",
       "Tuote                                        \n",
       "muikkukukko         8     15   120  43.478261\n",
       "lanttukukko        10     12   120  43.478261\n",
       "lihalörtsy          5      3    15   5.434783\n",
       "kasvislörtsy        7      3    21   7.608696"
      ]
     },
     "execution_count": 14,
     "metadata": {},
     "output_type": "execute_result"
    }
   ],
   "source": [
    "# Lisään %-sarakkeen (tuotteen osuus kokonaisvarastoarvosta)\n",
    "df['%'] = df['Arvo'] / df['Arvo'].sum() * 100\n",
    "df"
   ]
  },
  {
   "cell_type": "code",
   "execution_count": 15,
   "metadata": {},
   "outputs": [
    {
     "data": {
      "text/html": [
       "<style  type=\"text/css\" >\n",
       "</style><table id=\"T_f1587d1a_45cb_11ea_b303_5cb901ac75b5\" ><thead>    <tr>        <th class=\"blank level0\" ></th>        <th class=\"col_heading level0 col0\" >Varasto</th>        <th class=\"col_heading level0 col1\" >Hinta</th>        <th class=\"col_heading level0 col2\" >Arvo</th>        <th class=\"col_heading level0 col3\" >%</th>    </tr>    <tr>        <th class=\"index_name level0\" >Tuote</th>        <th class=\"blank\" ></th>        <th class=\"blank\" ></th>        <th class=\"blank\" ></th>        <th class=\"blank\" ></th>    </tr></thead><tbody>\n",
       "                <tr>\n",
       "                        <th id=\"T_f1587d1a_45cb_11ea_b303_5cb901ac75b5level0_row0\" class=\"row_heading level0 row0\" >muikkukukko</th>\n",
       "                        <td id=\"T_f1587d1a_45cb_11ea_b303_5cb901ac75b5row0_col0\" class=\"data row0 col0\" >8</td>\n",
       "                        <td id=\"T_f1587d1a_45cb_11ea_b303_5cb901ac75b5row0_col1\" class=\"data row0 col1\" >15</td>\n",
       "                        <td id=\"T_f1587d1a_45cb_11ea_b303_5cb901ac75b5row0_col2\" class=\"data row0 col2\" >120</td>\n",
       "                        <td id=\"T_f1587d1a_45cb_11ea_b303_5cb901ac75b5row0_col3\" class=\"data row0 col3\" >43</td>\n",
       "            </tr>\n",
       "            <tr>\n",
       "                        <th id=\"T_f1587d1a_45cb_11ea_b303_5cb901ac75b5level0_row1\" class=\"row_heading level0 row1\" >lanttukukko</th>\n",
       "                        <td id=\"T_f1587d1a_45cb_11ea_b303_5cb901ac75b5row1_col0\" class=\"data row1 col0\" >10</td>\n",
       "                        <td id=\"T_f1587d1a_45cb_11ea_b303_5cb901ac75b5row1_col1\" class=\"data row1 col1\" >12</td>\n",
       "                        <td id=\"T_f1587d1a_45cb_11ea_b303_5cb901ac75b5row1_col2\" class=\"data row1 col2\" >120</td>\n",
       "                        <td id=\"T_f1587d1a_45cb_11ea_b303_5cb901ac75b5row1_col3\" class=\"data row1 col3\" >43</td>\n",
       "            </tr>\n",
       "            <tr>\n",
       "                        <th id=\"T_f1587d1a_45cb_11ea_b303_5cb901ac75b5level0_row2\" class=\"row_heading level0 row2\" >lihalörtsy</th>\n",
       "                        <td id=\"T_f1587d1a_45cb_11ea_b303_5cb901ac75b5row2_col0\" class=\"data row2 col0\" >5</td>\n",
       "                        <td id=\"T_f1587d1a_45cb_11ea_b303_5cb901ac75b5row2_col1\" class=\"data row2 col1\" >3</td>\n",
       "                        <td id=\"T_f1587d1a_45cb_11ea_b303_5cb901ac75b5row2_col2\" class=\"data row2 col2\" >15</td>\n",
       "                        <td id=\"T_f1587d1a_45cb_11ea_b303_5cb901ac75b5row2_col3\" class=\"data row2 col3\" >5</td>\n",
       "            </tr>\n",
       "            <tr>\n",
       "                        <th id=\"T_f1587d1a_45cb_11ea_b303_5cb901ac75b5level0_row3\" class=\"row_heading level0 row3\" >kasvislörtsy</th>\n",
       "                        <td id=\"T_f1587d1a_45cb_11ea_b303_5cb901ac75b5row3_col0\" class=\"data row3 col0\" >7</td>\n",
       "                        <td id=\"T_f1587d1a_45cb_11ea_b303_5cb901ac75b5row3_col1\" class=\"data row3 col1\" >3</td>\n",
       "                        <td id=\"T_f1587d1a_45cb_11ea_b303_5cb901ac75b5row3_col2\" class=\"data row3 col2\" >21</td>\n",
       "                        <td id=\"T_f1587d1a_45cb_11ea_b303_5cb901ac75b5row3_col3\" class=\"data row3 col3\" >8</td>\n",
       "            </tr>\n",
       "            <tr>\n",
       "                        <th id=\"T_f1587d1a_45cb_11ea_b303_5cb901ac75b5level0_row4\" class=\"row_heading level0 row4\" >Yhteensä</th>\n",
       "                        <td id=\"T_f1587d1a_45cb_11ea_b303_5cb901ac75b5row4_col0\" class=\"data row4 col0\" >30</td>\n",
       "                        <td id=\"T_f1587d1a_45cb_11ea_b303_5cb901ac75b5row4_col1\" class=\"data row4 col1\" >33</td>\n",
       "                        <td id=\"T_f1587d1a_45cb_11ea_b303_5cb901ac75b5row4_col2\" class=\"data row4 col2\" >276</td>\n",
       "                        <td id=\"T_f1587d1a_45cb_11ea_b303_5cb901ac75b5row4_col3\" class=\"data row4 col3\" >100</td>\n",
       "            </tr>\n",
       "    </tbody></table>"
      ],
      "text/plain": [
       "<pandas.io.formats.style.Styler at 0x25d35f20630>"
      ]
     },
     "execution_count": 15,
     "metadata": {},
     "output_type": "execute_result"
    }
   ],
   "source": [
    "# Lisään dataframeen summarivin\n",
    "df.loc['Yhteensä'] = df.sum()\n",
    "\n",
    "# Esitän dataframen ilman desimaaleja\n",
    "df.style.format('{:.0f}')"
   ]
  },
  {
   "cell_type": "markdown",
   "metadata": {},
   "source": [
    "<h2>Rivien ja sarakkeiden vaihtaminen (transponointi)"
   ]
  },
  {
   "cell_type": "code",
   "execution_count": 16,
   "metadata": {},
   "outputs": [
    {
     "data": {
      "text/html": [
       "<style  type=\"text/css\" >\n",
       "</style><table id=\"T_f15fa2cc_45cb_11ea_8df2_5cb901ac75b5\" ><thead>    <tr>        <th class=\"index_name level0\" >Tuote</th>        <th class=\"col_heading level0 col0\" >muikkukukko</th>        <th class=\"col_heading level0 col1\" >lanttukukko</th>        <th class=\"col_heading level0 col2\" >lihalörtsy</th>        <th class=\"col_heading level0 col3\" >kasvislörtsy</th>        <th class=\"col_heading level0 col4\" >Yhteensä</th>    </tr></thead><tbody>\n",
       "                <tr>\n",
       "                        <th id=\"T_f15fa2cc_45cb_11ea_8df2_5cb901ac75b5level0_row0\" class=\"row_heading level0 row0\" >Varasto</th>\n",
       "                        <td id=\"T_f15fa2cc_45cb_11ea_8df2_5cb901ac75b5row0_col0\" class=\"data row0 col0\" >8</td>\n",
       "                        <td id=\"T_f15fa2cc_45cb_11ea_8df2_5cb901ac75b5row0_col1\" class=\"data row0 col1\" >10</td>\n",
       "                        <td id=\"T_f15fa2cc_45cb_11ea_8df2_5cb901ac75b5row0_col2\" class=\"data row0 col2\" >5</td>\n",
       "                        <td id=\"T_f15fa2cc_45cb_11ea_8df2_5cb901ac75b5row0_col3\" class=\"data row0 col3\" >7</td>\n",
       "                        <td id=\"T_f15fa2cc_45cb_11ea_8df2_5cb901ac75b5row0_col4\" class=\"data row0 col4\" >30</td>\n",
       "            </tr>\n",
       "            <tr>\n",
       "                        <th id=\"T_f15fa2cc_45cb_11ea_8df2_5cb901ac75b5level0_row1\" class=\"row_heading level0 row1\" >Hinta</th>\n",
       "                        <td id=\"T_f15fa2cc_45cb_11ea_8df2_5cb901ac75b5row1_col0\" class=\"data row1 col0\" >15</td>\n",
       "                        <td id=\"T_f15fa2cc_45cb_11ea_8df2_5cb901ac75b5row1_col1\" class=\"data row1 col1\" >12</td>\n",
       "                        <td id=\"T_f15fa2cc_45cb_11ea_8df2_5cb901ac75b5row1_col2\" class=\"data row1 col2\" >3</td>\n",
       "                        <td id=\"T_f15fa2cc_45cb_11ea_8df2_5cb901ac75b5row1_col3\" class=\"data row1 col3\" >3</td>\n",
       "                        <td id=\"T_f15fa2cc_45cb_11ea_8df2_5cb901ac75b5row1_col4\" class=\"data row1 col4\" >33</td>\n",
       "            </tr>\n",
       "            <tr>\n",
       "                        <th id=\"T_f15fa2cc_45cb_11ea_8df2_5cb901ac75b5level0_row2\" class=\"row_heading level0 row2\" >Arvo</th>\n",
       "                        <td id=\"T_f15fa2cc_45cb_11ea_8df2_5cb901ac75b5row2_col0\" class=\"data row2 col0\" >120</td>\n",
       "                        <td id=\"T_f15fa2cc_45cb_11ea_8df2_5cb901ac75b5row2_col1\" class=\"data row2 col1\" >120</td>\n",
       "                        <td id=\"T_f15fa2cc_45cb_11ea_8df2_5cb901ac75b5row2_col2\" class=\"data row2 col2\" >15</td>\n",
       "                        <td id=\"T_f15fa2cc_45cb_11ea_8df2_5cb901ac75b5row2_col3\" class=\"data row2 col3\" >21</td>\n",
       "                        <td id=\"T_f15fa2cc_45cb_11ea_8df2_5cb901ac75b5row2_col4\" class=\"data row2 col4\" >276</td>\n",
       "            </tr>\n",
       "            <tr>\n",
       "                        <th id=\"T_f15fa2cc_45cb_11ea_8df2_5cb901ac75b5level0_row3\" class=\"row_heading level0 row3\" >%</th>\n",
       "                        <td id=\"T_f15fa2cc_45cb_11ea_8df2_5cb901ac75b5row3_col0\" class=\"data row3 col0\" >43</td>\n",
       "                        <td id=\"T_f15fa2cc_45cb_11ea_8df2_5cb901ac75b5row3_col1\" class=\"data row3 col1\" >43</td>\n",
       "                        <td id=\"T_f15fa2cc_45cb_11ea_8df2_5cb901ac75b5row3_col2\" class=\"data row3 col2\" >5</td>\n",
       "                        <td id=\"T_f15fa2cc_45cb_11ea_8df2_5cb901ac75b5row3_col3\" class=\"data row3 col3\" >8</td>\n",
       "                        <td id=\"T_f15fa2cc_45cb_11ea_8df2_5cb901ac75b5row3_col4\" class=\"data row3 col4\" >100</td>\n",
       "            </tr>\n",
       "    </tbody></table>"
      ],
      "text/plain": [
       "<pandas.io.formats.style.Styler at 0x25d36eb0828>"
      ]
     },
     "execution_count": 16,
     "metadata": {},
     "output_type": "execute_result"
    }
   ],
   "source": [
    "# T (transpose) vaihtaa dataframen rivit ja sarakkeet\n",
    "df.T.style.format('{:.0f}')"
   ]
  }
 ],
 "metadata": {
  "kernelspec": {
   "display_name": "Python 3",
   "language": "python",
   "name": "python3"
  },
  "language_info": {
   "codemirror_mode": {
    "name": "ipython",
    "version": 3
   },
   "file_extension": ".py",
   "mimetype": "text/x-python",
   "name": "python",
   "nbconvert_exporter": "python",
   "pygments_lexer": "ipython3",
   "version": "3.7.3"
  }
 },
 "nbformat": 4,
 "nbformat_minor": 2
}
