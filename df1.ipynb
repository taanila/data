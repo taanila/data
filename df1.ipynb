{
 "cells": [
  {
   "cell_type": "code",
   "execution_count": 1,
   "metadata": {},
   "outputs": [
    {
     "name": "stdout",
     "output_type": "stream",
     "text": [
      "Päivitetty 2024-02-07 / Aki Taanila\n"
     ]
    }
   ],
   "source": [
    "from datetime import datetime\n",
    "print(f'Päivitetty {datetime.now().date()} / Aki Taanila')"
   ]
  },
  {
   "cell_type": "markdown",
   "metadata": {},
   "source": [
    "# DataFrame\n",
    "\n",
    "Tästä muistiosta voit aloittaa vaikka et olisi koskaan koodannut Pythonilla.\n",
    "\n",
    "Paketti (kutsutaan myös kirjastoksi) on kokoelma valmista ohjelmakoodia, jota voin käyttää omissa ohjelmissani. Data-analytiikan peruspaketti on nimeltään **pandas**. \n",
    "\n",
    "Useimmat data-analytiikassa tarvittavat paketit sisältyvät Anacondaan ja Colabiin. Jos käytät Minicondaa, niin sinun pitää asentaa jokainen käytettävä paketti erikseen.\n",
    "\n",
    "Jos paketti on valmiiksi asennettu, niin voin tuoda sen käyttööni **import**-komennolla. Esimerkiksi `import pandas as pd` tuo pandas-paketin käyttööni siten että voin seuraavissa koodisoluissa viitata siihen lyhenteellä **pd**.\n",
    "\n",
    "Muistion solun voit suorittaa näppäinyhdistelmillä **ctrl-enter** (pysyt samassa solussa) tai **shift-enter** (siirryt seuraavaan soluun).\n",
    "\n",
    "Pandas-kirjaston keskeinen olio on **DataFrame** (muistuttaa taulukkolaskennan taulukkoa). Seuraavassa tutustun dataframe-olioon yksinkertaisen esimerkkidatan avulla."
   ]
  },
  {
   "cell_type": "code",
   "execution_count": 2,
   "metadata": {},
   "outputs": [
    {
     "data": {
      "text/html": [
       "<div>\n",
       "<style scoped>\n",
       "    .dataframe tbody tr th:only-of-type {\n",
       "        vertical-align: middle;\n",
       "    }\n",
       "\n",
       "    .dataframe tbody tr th {\n",
       "        vertical-align: top;\n",
       "    }\n",
       "\n",
       "    .dataframe thead th {\n",
       "        text-align: right;\n",
       "    }\n",
       "</style>\n",
       "<table border=\"1\" class=\"dataframe\">\n",
       "  <thead>\n",
       "    <tr style=\"text-align: right;\">\n",
       "      <th></th>\n",
       "      <th>Tuote</th>\n",
       "      <th>Varasto</th>\n",
       "      <th>Hinta</th>\n",
       "    </tr>\n",
       "  </thead>\n",
       "  <tbody>\n",
       "    <tr>\n",
       "      <th>0</th>\n",
       "      <td>muikkukukko</td>\n",
       "      <td>8</td>\n",
       "      <td>15</td>\n",
       "    </tr>\n",
       "    <tr>\n",
       "      <th>1</th>\n",
       "      <td>lanttukukko</td>\n",
       "      <td>10</td>\n",
       "      <td>12</td>\n",
       "    </tr>\n",
       "    <tr>\n",
       "      <th>2</th>\n",
       "      <td>lihalörtsy</td>\n",
       "      <td>5</td>\n",
       "      <td>3</td>\n",
       "    </tr>\n",
       "    <tr>\n",
       "      <th>3</th>\n",
       "      <td>kasvislörtsy</td>\n",
       "      <td>7</td>\n",
       "      <td>3</td>\n",
       "    </tr>\n",
       "  </tbody>\n",
       "</table>\n",
       "</div>"
      ],
      "text/plain": [
       "          Tuote  Varasto  Hinta\n",
       "0   muikkukukko        8     15\n",
       "1   lanttukukko       10     12\n",
       "2    lihalörtsy        5      3\n",
       "3  kasvislörtsy        7      3"
      ]
     },
     "execution_count": 2,
     "metadata": {},
     "output_type": "execute_result"
    }
   ],
   "source": [
    "# Tuon data-analytiikan peruskirjaston\n",
    "import pandas as pd\n",
    "\n",
    "# Tallennan datan sanakirjaan (dictionary)\n",
    "# Sanakirjan ympärillä on aina aaltosulkeet {}\n",
    "# Listan ympärillä on aina hakasulkeet []\n",
    "data = {'Tuote': ['muikkukukko', 'lanttukukko', 'lihalörtsy', 'kasvislörtsy'],\n",
    "        'Varasto': [8, 10, 5, 7],\n",
    "        'Hinta': [15, 12, 3, 3]}\n",
    "\n",
    "# Luon sanakirjasta dataframen, jonka nimeksi annan df\n",
    "df = pd.DataFrame(data)\n",
    "\n",
    "# Näytän dataframen\n",
    "df"
   ]
  },
  {
   "cell_type": "code",
   "execution_count": 3,
   "metadata": {},
   "outputs": [
    {
     "data": {
      "text/plain": [
       "(4, 3)"
      ]
     },
     "execution_count": 3,
     "metadata": {},
     "output_type": "execute_result"
    }
   ],
   "source": [
    "# Dataframen rivien ja sarkkeiden määrä\n",
    "df.shape"
   ]
  },
  {
   "cell_type": "code",
   "execution_count": 4,
   "metadata": {},
   "outputs": [
    {
     "data": {
      "text/plain": [
       "RangeIndex(start=0, stop=4, step=1)"
      ]
     },
     "execution_count": 4,
     "metadata": {},
     "output_type": "execute_result"
    }
   ],
   "source": [
    "# Rivi-indeksi (dataframen vasemmanpuoleisin sarake)\n",
    "# Jos rivi-indeksiä ei ole erikseen määritelty, niin se sisältää juoksevat numerot 0, 1, 2,...\n",
    "df.index"
   ]
  },
  {
   "cell_type": "code",
   "execution_count": 5,
   "metadata": {},
   "outputs": [
    {
     "data": {
      "text/plain": [
       "Index(['Tuote', 'Varasto', 'Hinta'], dtype='object')"
      ]
     },
     "execution_count": 5,
     "metadata": {},
     "output_type": "execute_result"
    }
   ],
   "source": [
    "# Sarakeindeksi (dataframen sarakeotsikot)\n",
    "df.columns"
   ]
  },
  {
   "cell_type": "markdown",
   "metadata": {},
   "source": [
    "## Indeksihaku iloc\n",
    "\n",
    "Voin viitata dataframen yksittäisiin soluihin indeksinumeroilla. Huomaa, että indeksinumerot alkavat numerosta 0!"
   ]
  },
  {
   "cell_type": "code",
   "execution_count": 6,
   "metadata": {},
   "outputs": [
    {
     "data": {
      "text/plain": [
       "12"
      ]
     },
     "execution_count": 6,
     "metadata": {},
     "output_type": "execute_result"
    }
   ],
   "source": [
    "# Lanttukukon hinta indeksihaulla (1=lanttukukon rivi, 2=hinta-sarake)\n",
    "df.iloc[1, 2]"
   ]
  },
  {
   "cell_type": "code",
   "execution_count": 7,
   "metadata": {},
   "outputs": [
    {
     "data": {
      "text/plain": [
       "Tuote      lihalörtsy\n",
       "Varasto             5\n",
       "Hinta               3\n",
       "Name: 2, dtype: object"
      ]
     },
     "execution_count": 7,
     "metadata": {},
     "output_type": "execute_result"
    }
   ],
   "source": [
    "# Tiedot lihalörtsyn riviltä (rivi 2)\n",
    "df.iloc[2]"
   ]
  },
  {
   "cell_type": "markdown",
   "metadata": {},
   "source": [
    "## Haku indeksin tunnuksella loc\n",
    "\n",
    "Voin viitata tietokehikon yksittäisiin soluihin indeksien tunnuksilla."
   ]
  },
  {
   "cell_type": "code",
   "execution_count": 8,
   "metadata": {},
   "outputs": [
    {
     "data": {
      "text/html": [
       "<div>\n",
       "<style scoped>\n",
       "    .dataframe tbody tr th:only-of-type {\n",
       "        vertical-align: middle;\n",
       "    }\n",
       "\n",
       "    .dataframe tbody tr th {\n",
       "        vertical-align: top;\n",
       "    }\n",
       "\n",
       "    .dataframe thead th {\n",
       "        text-align: right;\n",
       "    }\n",
       "</style>\n",
       "<table border=\"1\" class=\"dataframe\">\n",
       "  <thead>\n",
       "    <tr style=\"text-align: right;\">\n",
       "      <th></th>\n",
       "      <th>Varasto</th>\n",
       "      <th>Hinta</th>\n",
       "    </tr>\n",
       "    <tr>\n",
       "      <th>Tuote</th>\n",
       "      <th></th>\n",
       "      <th></th>\n",
       "    </tr>\n",
       "  </thead>\n",
       "  <tbody>\n",
       "    <tr>\n",
       "      <th>muikkukukko</th>\n",
       "      <td>8</td>\n",
       "      <td>15</td>\n",
       "    </tr>\n",
       "    <tr>\n",
       "      <th>lanttukukko</th>\n",
       "      <td>10</td>\n",
       "      <td>12</td>\n",
       "    </tr>\n",
       "    <tr>\n",
       "      <th>lihalörtsy</th>\n",
       "      <td>5</td>\n",
       "      <td>3</td>\n",
       "    </tr>\n",
       "    <tr>\n",
       "      <th>kasvislörtsy</th>\n",
       "      <td>7</td>\n",
       "      <td>3</td>\n",
       "    </tr>\n",
       "  </tbody>\n",
       "</table>\n",
       "</div>"
      ],
      "text/plain": [
       "              Varasto  Hinta\n",
       "Tuote                       \n",
       "muikkukukko         8     15\n",
       "lanttukukko        10     12\n",
       "lihalörtsy          5      3\n",
       "kasvislörtsy        7      3"
      ]
     },
     "execution_count": 8,
     "metadata": {},
     "output_type": "execute_result"
    }
   ],
   "source": [
    "# Siirrän tuote-sarakkeen arvot rivi-indeksin arvoiksi\n",
    "df = df.set_index('Tuote')\n",
    "df"
   ]
  },
  {
   "cell_type": "code",
   "execution_count": 9,
   "metadata": {},
   "outputs": [
    {
     "data": {
      "text/plain": [
       "Varasto    5\n",
       "Hinta      3\n",
       "Name: lihalörtsy, dtype: int64"
      ]
     },
     "execution_count": 9,
     "metadata": {},
     "output_type": "execute_result"
    }
   ],
   "source": [
    "# Lihalörtsyn tiedot\n",
    "df.loc['lihalörtsy']"
   ]
  },
  {
   "cell_type": "code",
   "execution_count": 10,
   "metadata": {},
   "outputs": [
    {
     "data": {
      "text/plain": [
       "3"
      ]
     },
     "execution_count": 10,
     "metadata": {},
     "output_type": "execute_result"
    }
   ],
   "source": [
    "# Lihalörtsyn hinta\n",
    "df.loc['lihalörtsy','Hinta']"
   ]
  },
  {
   "cell_type": "code",
   "execution_count": 11,
   "metadata": {},
   "outputs": [
    {
     "data": {
      "text/plain": [
       "Tuote\n",
       "muikkukukko    15\n",
       "lanttukukko    12\n",
       "Name: Hinta, dtype: int64"
      ]
     },
     "execution_count": 11,
     "metadata": {},
     "output_type": "execute_result"
    }
   ],
   "source": [
    "# Hintatiedot muikkukukosta lanttukukkoon\n",
    "df.loc['muikkukukko':'lanttukukko', 'Hinta']"
   ]
  },
  {
   "cell_type": "code",
   "execution_count": 12,
   "metadata": {},
   "outputs": [
    {
     "data": {
      "text/plain": [
       "Tuote\n",
       "muikkukukko     15\n",
       "lanttukukko     12\n",
       "lihalörtsy       3\n",
       "kasvislörtsy     3\n",
       "Name: Hinta, dtype: int64"
      ]
     },
     "execution_count": 12,
     "metadata": {},
     "output_type": "execute_result"
    }
   ],
   "source": [
    "# Tuotteiden hinnat\n",
    "# Kaksoispiste tarkoittaa, että otetaan mukaan kaikki rivit\n",
    "df.loc[:, 'Hinta']"
   ]
  },
  {
   "cell_type": "code",
   "execution_count": 13,
   "metadata": {},
   "outputs": [
    {
     "data": {
      "text/html": [
       "<div>\n",
       "<style scoped>\n",
       "    .dataframe tbody tr th:only-of-type {\n",
       "        vertical-align: middle;\n",
       "    }\n",
       "\n",
       "    .dataframe tbody tr th {\n",
       "        vertical-align: top;\n",
       "    }\n",
       "\n",
       "    .dataframe thead th {\n",
       "        text-align: right;\n",
       "    }\n",
       "</style>\n",
       "<table border=\"1\" class=\"dataframe\">\n",
       "  <thead>\n",
       "    <tr style=\"text-align: right;\">\n",
       "      <th></th>\n",
       "      <th>Hinta</th>\n",
       "    </tr>\n",
       "    <tr>\n",
       "      <th>Tuote</th>\n",
       "      <th></th>\n",
       "    </tr>\n",
       "  </thead>\n",
       "  <tbody>\n",
       "    <tr>\n",
       "      <th>muikkukukko</th>\n",
       "      <td>15</td>\n",
       "    </tr>\n",
       "    <tr>\n",
       "      <th>lanttukukko</th>\n",
       "      <td>12</td>\n",
       "    </tr>\n",
       "    <tr>\n",
       "      <th>lihalörtsy</th>\n",
       "      <td>3</td>\n",
       "    </tr>\n",
       "    <tr>\n",
       "      <th>kasvislörtsy</th>\n",
       "      <td>3</td>\n",
       "    </tr>\n",
       "  </tbody>\n",
       "</table>\n",
       "</div>"
      ],
      "text/plain": [
       "              Hinta\n",
       "Tuote              \n",
       "muikkukukko      15\n",
       "lanttukukko      12\n",
       "lihalörtsy        3\n",
       "kasvislörtsy      3"
      ]
     },
     "execution_count": 13,
     "metadata": {},
     "output_type": "execute_result"
    }
   ],
   "source": [
    "# Jos tuloksena on indeksin lisäksi vain yhden sarakkeen tietoja, niin tulos ei ole dataframe, vaan series\n",
    "# Voin kuitenkin muuttaa tuloksen dataframeksi to_frame-funktiolla\n",
    "df.loc[:, 'Hinta'].to_frame()"
   ]
  },
  {
   "cell_type": "markdown",
   "metadata": {},
   "source": [
    "## Hieman laskentaa\n",
    "\n",
    "Voin laskea dataframeen uusia sarakkeita olemassaolevien sarakkeiden pohjalta."
   ]
  },
  {
   "cell_type": "code",
   "execution_count": 14,
   "metadata": {},
   "outputs": [
    {
     "data": {
      "text/html": [
       "<div>\n",
       "<style scoped>\n",
       "    .dataframe tbody tr th:only-of-type {\n",
       "        vertical-align: middle;\n",
       "    }\n",
       "\n",
       "    .dataframe tbody tr th {\n",
       "        vertical-align: top;\n",
       "    }\n",
       "\n",
       "    .dataframe thead th {\n",
       "        text-align: right;\n",
       "    }\n",
       "</style>\n",
       "<table border=\"1\" class=\"dataframe\">\n",
       "  <thead>\n",
       "    <tr style=\"text-align: right;\">\n",
       "      <th></th>\n",
       "      <th>Varasto</th>\n",
       "      <th>Hinta</th>\n",
       "      <th>Arvo</th>\n",
       "    </tr>\n",
       "    <tr>\n",
       "      <th>Tuote</th>\n",
       "      <th></th>\n",
       "      <th></th>\n",
       "      <th></th>\n",
       "    </tr>\n",
       "  </thead>\n",
       "  <tbody>\n",
       "    <tr>\n",
       "      <th>muikkukukko</th>\n",
       "      <td>8</td>\n",
       "      <td>15</td>\n",
       "      <td>120</td>\n",
       "    </tr>\n",
       "    <tr>\n",
       "      <th>lanttukukko</th>\n",
       "      <td>10</td>\n",
       "      <td>12</td>\n",
       "      <td>120</td>\n",
       "    </tr>\n",
       "    <tr>\n",
       "      <th>lihalörtsy</th>\n",
       "      <td>5</td>\n",
       "      <td>3</td>\n",
       "      <td>15</td>\n",
       "    </tr>\n",
       "    <tr>\n",
       "      <th>kasvislörtsy</th>\n",
       "      <td>7</td>\n",
       "      <td>3</td>\n",
       "      <td>21</td>\n",
       "    </tr>\n",
       "  </tbody>\n",
       "</table>\n",
       "</div>"
      ],
      "text/plain": [
       "              Varasto  Hinta  Arvo\n",
       "Tuote                             \n",
       "muikkukukko         8     15   120\n",
       "lanttukukko        10     12   120\n",
       "lihalörtsy          5      3    15\n",
       "kasvislörtsy        7      3    21"
      ]
     },
     "execution_count": 14,
     "metadata": {},
     "output_type": "execute_result"
    }
   ],
   "source": [
    "# Lasken tuotteiden varastoarvot Arvo-sarkkeeseen\n",
    "df['Arvo'] = df['Varasto']*df['Hinta']  \n",
    "df"
   ]
  },
  {
   "cell_type": "code",
   "execution_count": 15,
   "metadata": {},
   "outputs": [
    {
     "data": {
      "text/plain": [
       "276"
      ]
     },
     "execution_count": 15,
     "metadata": {},
     "output_type": "execute_result"
    }
   ],
   "source": [
    "# Lasken summan Arvo-sarakkeesta\n",
    "df['Arvo'].sum()"
   ]
  },
  {
   "cell_type": "code",
   "execution_count": 16,
   "metadata": {},
   "outputs": [
    {
     "data": {
      "text/plain": [
       "240"
      ]
     },
     "execution_count": 16,
     "metadata": {},
     "output_type": "execute_result"
    }
   ],
   "source": [
    "# Kukkojen varastoarvo\n",
    "df.loc['muikkukukko':'lanttukukko', 'Arvo'].sum()"
   ]
  },
  {
   "cell_type": "code",
   "execution_count": 17,
   "metadata": {},
   "outputs": [
    {
     "data": {
      "text/html": [
       "<div>\n",
       "<style scoped>\n",
       "    .dataframe tbody tr th:only-of-type {\n",
       "        vertical-align: middle;\n",
       "    }\n",
       "\n",
       "    .dataframe tbody tr th {\n",
       "        vertical-align: top;\n",
       "    }\n",
       "\n",
       "    .dataframe thead th {\n",
       "        text-align: right;\n",
       "    }\n",
       "</style>\n",
       "<table border=\"1\" class=\"dataframe\">\n",
       "  <thead>\n",
       "    <tr style=\"text-align: right;\">\n",
       "      <th></th>\n",
       "      <th>Varasto</th>\n",
       "      <th>Hinta</th>\n",
       "      <th>Arvo</th>\n",
       "      <th>%</th>\n",
       "    </tr>\n",
       "    <tr>\n",
       "      <th>Tuote</th>\n",
       "      <th></th>\n",
       "      <th></th>\n",
       "      <th></th>\n",
       "      <th></th>\n",
       "    </tr>\n",
       "  </thead>\n",
       "  <tbody>\n",
       "    <tr>\n",
       "      <th>muikkukukko</th>\n",
       "      <td>8</td>\n",
       "      <td>15</td>\n",
       "      <td>120</td>\n",
       "      <td>43.478261</td>\n",
       "    </tr>\n",
       "    <tr>\n",
       "      <th>lanttukukko</th>\n",
       "      <td>10</td>\n",
       "      <td>12</td>\n",
       "      <td>120</td>\n",
       "      <td>43.478261</td>\n",
       "    </tr>\n",
       "    <tr>\n",
       "      <th>lihalörtsy</th>\n",
       "      <td>5</td>\n",
       "      <td>3</td>\n",
       "      <td>15</td>\n",
       "      <td>5.434783</td>\n",
       "    </tr>\n",
       "    <tr>\n",
       "      <th>kasvislörtsy</th>\n",
       "      <td>7</td>\n",
       "      <td>3</td>\n",
       "      <td>21</td>\n",
       "      <td>7.608696</td>\n",
       "    </tr>\n",
       "  </tbody>\n",
       "</table>\n",
       "</div>"
      ],
      "text/plain": [
       "              Varasto  Hinta  Arvo          %\n",
       "Tuote                                        \n",
       "muikkukukko         8     15   120  43.478261\n",
       "lanttukukko        10     12   120  43.478261\n",
       "lihalörtsy          5      3    15   5.434783\n",
       "kasvislörtsy        7      3    21   7.608696"
      ]
     },
     "execution_count": 17,
     "metadata": {},
     "output_type": "execute_result"
    }
   ],
   "source": [
    "# Lisään %-sarakkeen (tuotteen osuus varaston kokonaisarvosta)\n",
    "df['%'] = df['Arvo']/df['Arvo'].sum()*100\n",
    "df"
   ]
  },
  {
   "cell_type": "markdown",
   "metadata": {},
   "source": [
    "Voin muotoilla dataframea muotoilukoodilla **{:.0f}**:\n",
    "* Muotoilukoodi kirjotetaan aaltosulkujen väliin\n",
    "* **:** on aloitusmerkki\n",
    "* **.0** tarkoittaa 0 desimaalia\n",
    "* **f** tarkoittaa liukulukua (float)"
   ]
  },
  {
   "cell_type": "code",
   "execution_count": 18,
   "metadata": {},
   "outputs": [
    {
     "data": {
      "text/html": [
       "<style type=\"text/css\">\n",
       "</style>\n",
       "<table id=\"T_6f4a0\">\n",
       "  <thead>\n",
       "    <tr>\n",
       "      <th class=\"blank level0\" >&nbsp;</th>\n",
       "      <th id=\"T_6f4a0_level0_col0\" class=\"col_heading level0 col0\" >Varasto</th>\n",
       "      <th id=\"T_6f4a0_level0_col1\" class=\"col_heading level0 col1\" >Hinta</th>\n",
       "      <th id=\"T_6f4a0_level0_col2\" class=\"col_heading level0 col2\" >Arvo</th>\n",
       "      <th id=\"T_6f4a0_level0_col3\" class=\"col_heading level0 col3\" >%</th>\n",
       "    </tr>\n",
       "    <tr>\n",
       "      <th class=\"index_name level0\" >Tuote</th>\n",
       "      <th class=\"blank col0\" >&nbsp;</th>\n",
       "      <th class=\"blank col1\" >&nbsp;</th>\n",
       "      <th class=\"blank col2\" >&nbsp;</th>\n",
       "      <th class=\"blank col3\" >&nbsp;</th>\n",
       "    </tr>\n",
       "  </thead>\n",
       "  <tbody>\n",
       "    <tr>\n",
       "      <th id=\"T_6f4a0_level0_row0\" class=\"row_heading level0 row0\" >muikkukukko</th>\n",
       "      <td id=\"T_6f4a0_row0_col0\" class=\"data row0 col0\" >8</td>\n",
       "      <td id=\"T_6f4a0_row0_col1\" class=\"data row0 col1\" >15</td>\n",
       "      <td id=\"T_6f4a0_row0_col2\" class=\"data row0 col2\" >120</td>\n",
       "      <td id=\"T_6f4a0_row0_col3\" class=\"data row0 col3\" >43</td>\n",
       "    </tr>\n",
       "    <tr>\n",
       "      <th id=\"T_6f4a0_level0_row1\" class=\"row_heading level0 row1\" >lanttukukko</th>\n",
       "      <td id=\"T_6f4a0_row1_col0\" class=\"data row1 col0\" >10</td>\n",
       "      <td id=\"T_6f4a0_row1_col1\" class=\"data row1 col1\" >12</td>\n",
       "      <td id=\"T_6f4a0_row1_col2\" class=\"data row1 col2\" >120</td>\n",
       "      <td id=\"T_6f4a0_row1_col3\" class=\"data row1 col3\" >43</td>\n",
       "    </tr>\n",
       "    <tr>\n",
       "      <th id=\"T_6f4a0_level0_row2\" class=\"row_heading level0 row2\" >lihalörtsy</th>\n",
       "      <td id=\"T_6f4a0_row2_col0\" class=\"data row2 col0\" >5</td>\n",
       "      <td id=\"T_6f4a0_row2_col1\" class=\"data row2 col1\" >3</td>\n",
       "      <td id=\"T_6f4a0_row2_col2\" class=\"data row2 col2\" >15</td>\n",
       "      <td id=\"T_6f4a0_row2_col3\" class=\"data row2 col3\" >5</td>\n",
       "    </tr>\n",
       "    <tr>\n",
       "      <th id=\"T_6f4a0_level0_row3\" class=\"row_heading level0 row3\" >kasvislörtsy</th>\n",
       "      <td id=\"T_6f4a0_row3_col0\" class=\"data row3 col0\" >7</td>\n",
       "      <td id=\"T_6f4a0_row3_col1\" class=\"data row3 col1\" >3</td>\n",
       "      <td id=\"T_6f4a0_row3_col2\" class=\"data row3 col2\" >21</td>\n",
       "      <td id=\"T_6f4a0_row3_col3\" class=\"data row3 col3\" >8</td>\n",
       "    </tr>\n",
       "    <tr>\n",
       "      <th id=\"T_6f4a0_level0_row4\" class=\"row_heading level0 row4\" >Yhteensä</th>\n",
       "      <td id=\"T_6f4a0_row4_col0\" class=\"data row4 col0\" >30</td>\n",
       "      <td id=\"T_6f4a0_row4_col1\" class=\"data row4 col1\" >33</td>\n",
       "      <td id=\"T_6f4a0_row4_col2\" class=\"data row4 col2\" >276</td>\n",
       "      <td id=\"T_6f4a0_row4_col3\" class=\"data row4 col3\" >100</td>\n",
       "    </tr>\n",
       "  </tbody>\n",
       "</table>\n"
      ],
      "text/plain": [
       "<pandas.io.formats.style.Styler at 0x2c6975af890>"
      ]
     },
     "execution_count": 18,
     "metadata": {},
     "output_type": "execute_result"
    }
   ],
   "source": [
    "# Lisään dataframeen summarivin\n",
    "df.loc['Yhteensä'] = df.sum()\n",
    "\n",
    "# Esitän dataframen ilman desimaaleja käyttämällä muotoilukoodia\n",
    "df.style.format('{:.0f}')"
   ]
  },
  {
   "cell_type": "markdown",
   "metadata": {},
   "source": [
    "## Rivien ja sarakkeiden vaihtaminen (transponointi)"
   ]
  },
  {
   "cell_type": "code",
   "execution_count": 19,
   "metadata": {},
   "outputs": [
    {
     "data": {
      "text/html": [
       "<style type=\"text/css\">\n",
       "</style>\n",
       "<table id=\"T_27f4d\">\n",
       "  <thead>\n",
       "    <tr>\n",
       "      <th class=\"index_name level0\" >Tuote</th>\n",
       "      <th id=\"T_27f4d_level0_col0\" class=\"col_heading level0 col0\" >muikkukukko</th>\n",
       "      <th id=\"T_27f4d_level0_col1\" class=\"col_heading level0 col1\" >lanttukukko</th>\n",
       "      <th id=\"T_27f4d_level0_col2\" class=\"col_heading level0 col2\" >lihalörtsy</th>\n",
       "      <th id=\"T_27f4d_level0_col3\" class=\"col_heading level0 col3\" >kasvislörtsy</th>\n",
       "      <th id=\"T_27f4d_level0_col4\" class=\"col_heading level0 col4\" >Yhteensä</th>\n",
       "    </tr>\n",
       "  </thead>\n",
       "  <tbody>\n",
       "    <tr>\n",
       "      <th id=\"T_27f4d_level0_row0\" class=\"row_heading level0 row0\" >Varasto</th>\n",
       "      <td id=\"T_27f4d_row0_col0\" class=\"data row0 col0\" >8</td>\n",
       "      <td id=\"T_27f4d_row0_col1\" class=\"data row0 col1\" >10</td>\n",
       "      <td id=\"T_27f4d_row0_col2\" class=\"data row0 col2\" >5</td>\n",
       "      <td id=\"T_27f4d_row0_col3\" class=\"data row0 col3\" >7</td>\n",
       "      <td id=\"T_27f4d_row0_col4\" class=\"data row0 col4\" >30</td>\n",
       "    </tr>\n",
       "    <tr>\n",
       "      <th id=\"T_27f4d_level0_row1\" class=\"row_heading level0 row1\" >Hinta</th>\n",
       "      <td id=\"T_27f4d_row1_col0\" class=\"data row1 col0\" >15</td>\n",
       "      <td id=\"T_27f4d_row1_col1\" class=\"data row1 col1\" >12</td>\n",
       "      <td id=\"T_27f4d_row1_col2\" class=\"data row1 col2\" >3</td>\n",
       "      <td id=\"T_27f4d_row1_col3\" class=\"data row1 col3\" >3</td>\n",
       "      <td id=\"T_27f4d_row1_col4\" class=\"data row1 col4\" >33</td>\n",
       "    </tr>\n",
       "    <tr>\n",
       "      <th id=\"T_27f4d_level0_row2\" class=\"row_heading level0 row2\" >Arvo</th>\n",
       "      <td id=\"T_27f4d_row2_col0\" class=\"data row2 col0\" >120</td>\n",
       "      <td id=\"T_27f4d_row2_col1\" class=\"data row2 col1\" >120</td>\n",
       "      <td id=\"T_27f4d_row2_col2\" class=\"data row2 col2\" >15</td>\n",
       "      <td id=\"T_27f4d_row2_col3\" class=\"data row2 col3\" >21</td>\n",
       "      <td id=\"T_27f4d_row2_col4\" class=\"data row2 col4\" >276</td>\n",
       "    </tr>\n",
       "    <tr>\n",
       "      <th id=\"T_27f4d_level0_row3\" class=\"row_heading level0 row3\" >%</th>\n",
       "      <td id=\"T_27f4d_row3_col0\" class=\"data row3 col0\" >43</td>\n",
       "      <td id=\"T_27f4d_row3_col1\" class=\"data row3 col1\" >43</td>\n",
       "      <td id=\"T_27f4d_row3_col2\" class=\"data row3 col2\" >5</td>\n",
       "      <td id=\"T_27f4d_row3_col3\" class=\"data row3 col3\" >8</td>\n",
       "      <td id=\"T_27f4d_row3_col4\" class=\"data row3 col4\" >100</td>\n",
       "    </tr>\n",
       "  </tbody>\n",
       "</table>\n"
      ],
      "text/plain": [
       "<pandas.io.formats.style.Styler at 0x2c699795bd0>"
      ]
     },
     "execution_count": 19,
     "metadata": {},
     "output_type": "execute_result"
    }
   ],
   "source": [
    "# T (transpose) vaihtaa dataframen rivit ja sarakkeet\n",
    "df.T.style.format('{:.0f}')"
   ]
  },
  {
   "cell_type": "markdown",
   "metadata": {},
   "source": [
    "## Luettelo muistikirjassa käytetyistä funktioista ja toiminnoista\n",
    "\n",
    "* Paketin tuonti **import**-toiminnolla; esimerkkinä **pandas**-paketin tuonti\n",
    "* Merkkijono (**string**) kirjoitetaan heittomerkkien '' väliin (myös lainausmerkit \"\" käyvät). Merkkijonoja ovat esimerkiksi tiedostonimet, dataframen sarakeotsikot (muuttujien nimet), muuttujien tekstimuotoiset arvot. Huomaa kuitenkin, että Pythonin muuttujien nimiä ei kirjoitetan heittomerkkien väliin (esimerkiksi df, n jne.) \n",
    "* Pythonin tietorakenne **lista**, joka kirjoitetaan hakasulkujen sisään\n",
    "* Pythonin tietorakenne **sanakirja** (**dictionary**), joka kirjoitetaan aaltosulkujen sisään\n",
    "* Pandas-kirjaston tietorakenteet **dataframe** ja **series**\n",
    "* **pd.DataFrame()** dataframen luominen\n",
    "* **df.shape** datan rivien ja sarakkeiden lukumäärät\n",
    "* **df.index** dataframen vasemman reunan indeksi\n",
    "* **df.columns** dataframen yläreunan indeksi\n",
    "* **df.iloc[]** viittaus dataframen viipaleeseen indeksinumeroilla\n",
    "* **df.set_index()** sarakkeen siirtäminen vasemman reunan indeksiin\n",
    "* **df.loc[]** viittaus dataframen viipaleeseen indeksitunnuksilla\n",
    "* **df.to_frame()** series-tyyppisen datan muuttaminen dataframeksi\n",
    "* **df.sum()** summafunktio\n",
    "* **df.style.format()** dataframen muotoilu\n",
    "* **df.T** dataframen rivit sarakkeiksi ja päinvastoin\n",
    "\n",
    "Lisäksi opittiin laskemaan dataframeen uusia sarakkeita ja käyttämään muotoilukoodeja **style.format**-funktion yhteydessä."
   ]
  },
  {
   "cell_type": "markdown",
   "metadata": {},
   "source": [
    "## Lisätietoa\n",
    "\n",
    "Tutustu DataFrame-olion ohjesivuun: https://pandas.pydata.org/pandas-docs/stable/reference/api/pandas.DataFrame.html\n",
    "    \n",
    "Data-analytiikka Pythonilla https://tilastoapu.wordpress.com/python/"
   ]
  }
 ],
 "metadata": {
  "kernelspec": {
   "display_name": "Python 3 (ipykernel)",
   "language": "python",
   "name": "python3"
  },
  "language_info": {
   "codemirror_mode": {
    "name": "ipython",
    "version": 3
   },
   "file_extension": ".py",
   "mimetype": "text/x-python",
   "name": "python",
   "nbconvert_exporter": "python",
   "pygments_lexer": "ipython3",
   "version": "3.11.5"
  }
 },
 "nbformat": 4,
 "nbformat_minor": 4
}
