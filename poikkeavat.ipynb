{
 "cells": [
  {
   "cell_type": "code",
   "execution_count": 1,
   "metadata": {},
   "outputs": [
    {
     "name": "stdout",
     "output_type": "stream",
     "text": [
      "Päivitetty 2025-05-16 / Aki Taanila\n"
     ]
    }
   ],
   "source": [
    "from datetime import datetime\n",
    "print(f'Päivitetty {datetime.now().date()} / Aki Taanila')"
   ]
  },
  {
   "cell_type": "markdown",
   "metadata": {},
   "source": [
    "# Poikkeavien arvojen poistaminen tai korvaaminen\n",
    "\n",
    "Muista selvästi poikkeavat arvot voivat olla virheellisiä tai todellisia.\n",
    "\n",
    "Jos poikkeavat arvot osoittautuvat virheellisiksi, niin ne on syytä poistaa datasta. Kyseeseen voi tulla poikkeavien arvojen korvaaminen puuttuvilla arvoilla, rivien poisto tai korvaaminen jollain muulla arvolla.\n",
    "\n",
    "Vaikka poikkeavat arvot olisivat todellisia, niin niiden poistaminen voi olla aiheellista esimerkiksi ennustemallien rakentamisessa.\n",
    "\n",
    "Poikkeavien arvojen kriteerinä voidaa pitää esimerkiksi seuraavia:\n",
    "* Arvot, jotka ovat yli kolmen keskihajonnan päässä keskiarvostaan.\n",
    "* Arvot, jotka ovat yli 1,5 neljännesvälin päässä neljänneksestä. Neljännesväli (inter quartile range) on yläneljänneksen ja alaneljänneksen erotus. Ruutu- ja janakaavioon (boxplot) yli 1,5 neljännesvälin päässä olevat arvot merkitään oletusarvoisesti erillisinä pisteinä."
   ]
  },
  {
   "cell_type": "code",
   "execution_count": 2,
   "metadata": {},
   "outputs": [],
   "source": [
    "import numpy as np\n",
    "import pandas as pd\n",
    "import seaborn as sns"
   ]
  },
  {
   "cell_type": "code",
   "execution_count": 3,
   "metadata": {},
   "outputs": [],
   "source": [
    "# Arvotaan normaalijakaumasta N(0, 1) satunnaislukuja (tuhat riviä, neljä saraketta)\n",
    "df = pd.DataFrame(np.random.randn(1000, 4), columns=['x1', 'x2', 'x3', 'x4'])"
   ]
  },
  {
   "cell_type": "code",
   "execution_count": 4,
   "metadata": {},
   "outputs": [
    {
     "data": {
      "text/html": [
       "<div>\n",
       "<style scoped>\n",
       "    .dataframe tbody tr th:only-of-type {\n",
       "        vertical-align: middle;\n",
       "    }\n",
       "\n",
       "    .dataframe tbody tr th {\n",
       "        vertical-align: top;\n",
       "    }\n",
       "\n",
       "    .dataframe thead th {\n",
       "        text-align: right;\n",
       "    }\n",
       "</style>\n",
       "<table border=\"1\" class=\"dataframe\">\n",
       "  <thead>\n",
       "    <tr style=\"text-align: right;\">\n",
       "      <th></th>\n",
       "      <th>x1</th>\n",
       "      <th>x2</th>\n",
       "      <th>x3</th>\n",
       "      <th>x4</th>\n",
       "    </tr>\n",
       "  </thead>\n",
       "  <tbody>\n",
       "    <tr>\n",
       "      <th>count</th>\n",
       "      <td>1000.000000</td>\n",
       "      <td>1000.000000</td>\n",
       "      <td>1000.000000</td>\n",
       "      <td>1000.000000</td>\n",
       "    </tr>\n",
       "    <tr>\n",
       "      <th>mean</th>\n",
       "      <td>-0.006625</td>\n",
       "      <td>0.081026</td>\n",
       "      <td>-0.013743</td>\n",
       "      <td>-0.033220</td>\n",
       "    </tr>\n",
       "    <tr>\n",
       "      <th>std</th>\n",
       "      <td>0.998936</td>\n",
       "      <td>1.015296</td>\n",
       "      <td>1.009261</td>\n",
       "      <td>1.008354</td>\n",
       "    </tr>\n",
       "    <tr>\n",
       "      <th>min</th>\n",
       "      <td>-3.202759</td>\n",
       "      <td>-3.008088</td>\n",
       "      <td>-3.279192</td>\n",
       "      <td>-3.378835</td>\n",
       "    </tr>\n",
       "    <tr>\n",
       "      <th>25%</th>\n",
       "      <td>-0.649523</td>\n",
       "      <td>-0.658516</td>\n",
       "      <td>-0.698629</td>\n",
       "      <td>-0.719990</td>\n",
       "    </tr>\n",
       "    <tr>\n",
       "      <th>50%</th>\n",
       "      <td>-0.032724</td>\n",
       "      <td>0.065117</td>\n",
       "      <td>-0.025159</td>\n",
       "      <td>-0.024168</td>\n",
       "    </tr>\n",
       "    <tr>\n",
       "      <th>75%</th>\n",
       "      <td>0.650847</td>\n",
       "      <td>0.759297</td>\n",
       "      <td>0.666863</td>\n",
       "      <td>0.641393</td>\n",
       "    </tr>\n",
       "    <tr>\n",
       "      <th>max</th>\n",
       "      <td>2.934833</td>\n",
       "      <td>3.625044</td>\n",
       "      <td>3.487594</td>\n",
       "      <td>3.184922</td>\n",
       "    </tr>\n",
       "  </tbody>\n",
       "</table>\n",
       "</div>"
      ],
      "text/plain": [
       "                x1           x2           x3           x4\n",
       "count  1000.000000  1000.000000  1000.000000  1000.000000\n",
       "mean     -0.006625     0.081026    -0.013743    -0.033220\n",
       "std       0.998936     1.015296     1.009261     1.008354\n",
       "min      -3.202759    -3.008088    -3.279192    -3.378835\n",
       "25%      -0.649523    -0.658516    -0.698629    -0.719990\n",
       "50%      -0.032724     0.065117    -0.025159    -0.024168\n",
       "75%       0.650847     0.759297     0.666863     0.641393\n",
       "max       2.934833     3.625044     3.487594     3.184922"
      ]
     },
     "execution_count": 4,
     "metadata": {},
     "output_type": "execute_result"
    }
   ],
   "source": [
    "# Katsotaan tilastolliset tunnusluvut\n",
    "df.describe()"
   ]
  },
  {
   "cell_type": "code",
   "execution_count": 5,
   "metadata": {},
   "outputs": [
    {
     "data": {
      "text/plain": [
       "<Axes: >"
      ]
     },
     "execution_count": 5,
     "metadata": {},
     "output_type": "execute_result"
    },
    {
     "data": {
      "image/png": "[encoded data removed]",
      "text/plain": [
       "<Figure size 640x480 with 1 Axes>"
      ]
     },
     "metadata": {},
     "output_type": "display_data"
    }
   ],
   "source": [
    "# Katsotaan onko mukana yli 1,5 neljännesvälin päässä neljänneksestä olevia arvoja\n",
    "# Ne näkyvät boxplotissa erillisinä pisteinä\n",
    "sns.boxplot(data=df)"
   ]
  },
  {
   "cell_type": "markdown",
   "metadata": {},
   "source": [
    "## Korvaaminen puuttuvalla arvolla\n",
    "\n",
    "**mask**-funktio on tässä kätevä\n",
    "https://pandas.pydata.org/pandas-docs/stable/reference/api/pandas.DataFrame.mask.html\n",
    "\n",
    "**mask**-funktio korvaa ehdon mukaiset arvot puuttuvalla arvolla."
   ]
  },
  {
   "cell_type": "code",
   "execution_count": 6,
   "metadata": {},
   "outputs": [
    {
     "data": {
      "text/plain": [
       "x1    1\n",
       "x2    3\n",
       "x3    2\n",
       "x4    5\n",
       "dtype: int64"
      ]
     },
     "execution_count": 6,
     "metadata": {},
     "output_type": "execute_result"
    }
   ],
   "source": [
    "ka = df.mean() # keskiarvo\n",
    "kh = df.std() # keskihajonta\n",
    "\n",
    "# Yli kolmen keskihajonnan päässä keskiarvostaan sijaitsevat puuttuviksi arvoiksi\n",
    "df1 = df.mask(abs((df-ka)/kh) > 3)\n",
    "\n",
    "# Tarkistan puuttuvien arvojen lukumäärät\n",
    "df1.isnull().sum()"
   ]
  },
  {
   "cell_type": "code",
   "execution_count": 7,
   "metadata": {},
   "outputs": [
    {
     "data": {
      "text/plain": [
       "x1    14\n",
       "x2     4\n",
       "x3     4\n",
       "x4    10\n",
       "dtype: int64"
      ]
     },
     "execution_count": 7,
     "metadata": {},
     "output_type": "execute_result"
    }
   ],
   "source": [
    "Q1 = df.quantile(0.25) # alaneljännes\n",
    "Q3 = df.quantile(0.75) # yläneljännes\n",
    "IQR = Q3-Q1 # neljännesväli\n",
    "\n",
    "# Yli 1.5 neljännesvälin päässä neljänneksestä sijaitsevat puuttuviksi arvoiksi\n",
    "df2 = df.mask(((df < Q1-1.5*IQR) | (df > Q3+1.5*IQR)))\n",
    "\n",
    "# Tarkistan puuttuvien arvojen lukumäärät\n",
    "df2.isnull().sum()"
   ]
  },
  {
   "cell_type": "markdown",
   "metadata": {},
   "source": [
    "## Rivien poisto\n",
    "\n",
    "**mask**-funktio on tässä kätevä\n",
    "https://pandas.pydata.org/pandas-docs/stable/reference/api/pandas.DataFrame.mask.html\n",
    "\n",
    "**mask**-funktio korvaa ehdon mukaiset arvot puuttuvalla arvolla. Tämän jälkeen puuttuvia arvoja sisältävät rivit voi poistaa **dropna**-funktiolla."
   ]
  },
  {
   "cell_type": "code",
   "execution_count": 8,
   "metadata": {},
   "outputs": [
    {
     "data": {
      "text/plain": [
       "989"
      ]
     },
     "execution_count": 8,
     "metadata": {},
     "output_type": "execute_result"
    }
   ],
   "source": [
    "# Poistan poikkeavia arvoja (yli 3 keskihajonnan päässä keskiarvostaan) sisältävät rivit\n",
    "df3 = df.mask(abs((df-ka)/kh) > 3).dropna()\n",
    "\n",
    "# Tarkistan jäljelle jääneiden rivien lukumäärän\n",
    "df3.shape[0]"
   ]
  },
  {
   "cell_type": "code",
   "execution_count": 9,
   "metadata": {},
   "outputs": [
    {
     "data": {
      "text/plain": [
       "968"
      ]
     },
     "execution_count": 9,
     "metadata": {},
     "output_type": "execute_result"
    }
   ],
   "source": [
    "# Poistan poikkeavia arvoja (yli 1,5 neljännesväliä neljänneksestä)\n",
    "df4 = df.mask((df < (Q1-1.5*IQR)) | (df > (Q3+1.5*IQR))).dropna()\n",
    "\n",
    "# Tarkistan jäljelle jääneiden rivien lukumäärän    \n",
    "df4.shape[0]"
   ]
  },
  {
   "cell_type": "markdown",
   "metadata": {},
   "source": [
    "## Korvaaminen toisella arvolla\n",
    "\n",
    "**mask**-funktio on tässä kätevä https://pandas.pydata.org/pandas-docs/stable/reference/api/pandas.DataFrame.mask.html\n",
    "\n",
    "**mask**-funktion **other**-parametrilla voi määrätä millä arvolla ehdon mukaiset arvot korvataan."
   ]
  },
  {
   "cell_type": "code",
   "execution_count": 10,
   "metadata": {},
   "outputs": [
    {
     "data": {
      "text/html": [
       "<div>\n",
       "<style scoped>\n",
       "    .dataframe tbody tr th:only-of-type {\n",
       "        vertical-align: middle;\n",
       "    }\n",
       "\n",
       "    .dataframe tbody tr th {\n",
       "        vertical-align: top;\n",
       "    }\n",
       "\n",
       "    .dataframe thead th {\n",
       "        text-align: right;\n",
       "    }\n",
       "</style>\n",
       "<table border=\"1\" class=\"dataframe\">\n",
       "  <thead>\n",
       "    <tr style=\"text-align: right;\">\n",
       "      <th></th>\n",
       "      <th>x1</th>\n",
       "      <th>x2</th>\n",
       "      <th>x3</th>\n",
       "      <th>x4</th>\n",
       "    </tr>\n",
       "  </thead>\n",
       "  <tbody>\n",
       "    <tr>\n",
       "      <th>count</th>\n",
       "      <td>1000.000000</td>\n",
       "      <td>1000.000000</td>\n",
       "      <td>1000.000000</td>\n",
       "      <td>1000.000000</td>\n",
       "    </tr>\n",
       "    <tr>\n",
       "      <th>mean</th>\n",
       "      <td>-0.006423</td>\n",
       "      <td>0.079867</td>\n",
       "      <td>-0.013952</td>\n",
       "      <td>-0.032729</td>\n",
       "    </tr>\n",
       "    <tr>\n",
       "      <th>std</th>\n",
       "      <td>0.998307</td>\n",
       "      <td>1.011567</td>\n",
       "      <td>1.006818</td>\n",
       "      <td>1.005690</td>\n",
       "    </tr>\n",
       "    <tr>\n",
       "      <th>min</th>\n",
       "      <td>-3.000000</td>\n",
       "      <td>-3.000000</td>\n",
       "      <td>-3.000000</td>\n",
       "      <td>-3.000000</td>\n",
       "    </tr>\n",
       "    <tr>\n",
       "      <th>25%</th>\n",
       "      <td>-0.649523</td>\n",
       "      <td>-0.658516</td>\n",
       "      <td>-0.698629</td>\n",
       "      <td>-0.719990</td>\n",
       "    </tr>\n",
       "    <tr>\n",
       "      <th>50%</th>\n",
       "      <td>-0.032724</td>\n",
       "      <td>0.065117</td>\n",
       "      <td>-0.025159</td>\n",
       "      <td>-0.024168</td>\n",
       "    </tr>\n",
       "    <tr>\n",
       "      <th>75%</th>\n",
       "      <td>0.650847</td>\n",
       "      <td>0.759297</td>\n",
       "      <td>0.666863</td>\n",
       "      <td>0.641393</td>\n",
       "    </tr>\n",
       "    <tr>\n",
       "      <th>max</th>\n",
       "      <td>2.934833</td>\n",
       "      <td>3.000000</td>\n",
       "      <td>3.000000</td>\n",
       "      <td>3.000000</td>\n",
       "    </tr>\n",
       "  </tbody>\n",
       "</table>\n",
       "</div>"
      ],
      "text/plain": [
       "                x1           x2           x3           x4\n",
       "count  1000.000000  1000.000000  1000.000000  1000.000000\n",
       "mean     -0.006423     0.079867    -0.013952    -0.032729\n",
       "std       0.998307     1.011567     1.006818     1.005690\n",
       "min      -3.000000    -3.000000    -3.000000    -3.000000\n",
       "25%      -0.649523    -0.658516    -0.698629    -0.719990\n",
       "50%      -0.032724     0.065117    -0.025159    -0.024168\n",
       "75%       0.650847     0.759297     0.666863     0.641393\n",
       "max       2.934833     3.000000     3.000000     3.000000"
      ]
     },
     "execution_count": 10,
     "metadata": {},
     "output_type": "execute_result"
    }
   ],
   "source": [
    "# Korvaan poikkeavat arvot etumerkistä riippuen joko arvolla 3 tai arvolla -3\n",
    "df5 = df.mask(abs((df-ka)/kh)>3, other=np.sign(df)*3)\n",
    "\n",
    "# Tarkistan min ja max\n",
    "df5.describe()"
   ]
  },
  {
   "cell_type": "markdown",
   "metadata": {},
   "source": [
    "## Lisätietoa\n",
    "\n",
    "Data-analytiikka Pythonilla https://tilastoapu.wordpress.com/python/"
   ]
  }
 ],
 "metadata": {
  "kernelspec": {
   "display_name": "Python 3 (ipykernel)",
   "language": "python",
   "name": "python3"
  },
  "language_info": {
   "codemirror_mode": {
    "name": "ipython",
    "version": 3
   },
   "file_extension": ".py",
   "mimetype": "text/x-python",
   "name": "python",
   "nbconvert_exporter": "python",
   "pygments_lexer": "ipython3",
   "version": "3.13.2"
  }
 },
 "nbformat": 4,
 "nbformat_minor": 4
}
