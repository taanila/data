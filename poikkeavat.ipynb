{
 "cells": [
  {
   "cell_type": "code",
   "execution_count": 1,
   "metadata": {},
   "outputs": [
    {
     "name": "stdout",
     "output_type": "stream",
     "text": [
      "Päivitetty 2023-01-16 15:36:48.274580\n"
     ]
    }
   ],
   "source": [
    "from datetime import datetime\n",
    "print(f'Päivitetty {datetime.now()}')"
   ]
  },
  {
   "cell_type": "markdown",
   "metadata": {},
   "source": [
    "# Poikkeavien arvojen poistaminen tai korvaaminen\n",
    "\n",
    "Muista selvästi poikkeavat arvot voivat olla virheellisiä tai todellisia.\n",
    "\n",
    "Jos poikkeavat arvot osoittautuvat virheellisiksi, niin ne on syytä poistaa datasta. Kyseeseen voi tulla poikkeavia arvoja sisältävien rivien poisto, poikkeavien arvojen korvaaminen puuttuvan arvon merkillä tai korvaaminen esimerkiksi mediaanilla.\n",
    "\n",
    "Vaikka poikkeavat arvot olisivat todellisia, niin niiden poistaminen voi olla aiheellista esimerkiksi ennustemallien rakentamisessa.\n",
    "\n",
    "Poikkeavien arvojen kriteerinä voidaa pitää esimerkiksi seuraavia:\n",
    "* Arvot, jotka ovat yli kolmen keskihajonnan päässä keskiarvostaan.\n",
    "* Arvot, jotka ovat yli 1,5 neljännesvälin päässä neljänneksestä. Neljännesväli (inter quartile range) on yläneljänneksen ja alaneljänneksen erotus. Ruutu- ja janakaavioon (boxplot) yli 1,5 neljännesvälin päässä olevat arvot merkitään oletusarvoisesti erillisinä pisteinä."
   ]
  },
  {
   "cell_type": "code",
   "execution_count": 2,
   "metadata": {},
   "outputs": [],
   "source": [
    "import numpy as np\n",
    "import pandas as pd\n",
    "import seaborn as sns"
   ]
  },
  {
   "cell_type": "code",
   "execution_count": 3,
   "metadata": {},
   "outputs": [],
   "source": [
    "# Arvotaan normaalijakaumasta satunnaislukuja (tuhat riviä, neljä saraketta)\n",
    "df = pd.DataFrame(np.random.randn(1000, 4))"
   ]
  },
  {
   "cell_type": "code",
   "execution_count": 4,
   "metadata": {},
   "outputs": [
    {
     "data": {
      "text/html": [
       "<div>\n",
       "<style scoped>\n",
       "    .dataframe tbody tr th:only-of-type {\n",
       "        vertical-align: middle;\n",
       "    }\n",
       "\n",
       "    .dataframe tbody tr th {\n",
       "        vertical-align: top;\n",
       "    }\n",
       "\n",
       "    .dataframe thead th {\n",
       "        text-align: right;\n",
       "    }\n",
       "</style>\n",
       "<table border=\"1\" class=\"dataframe\">\n",
       "  <thead>\n",
       "    <tr style=\"text-align: right;\">\n",
       "      <th></th>\n",
       "      <th>0</th>\n",
       "      <th>1</th>\n",
       "      <th>2</th>\n",
       "      <th>3</th>\n",
       "    </tr>\n",
       "  </thead>\n",
       "  <tbody>\n",
       "    <tr>\n",
       "      <th>count</th>\n",
       "      <td>1000.000000</td>\n",
       "      <td>1000.000000</td>\n",
       "      <td>1000.000000</td>\n",
       "      <td>1000.000000</td>\n",
       "    </tr>\n",
       "    <tr>\n",
       "      <th>mean</th>\n",
       "      <td>-0.012565</td>\n",
       "      <td>0.025063</td>\n",
       "      <td>-0.000607</td>\n",
       "      <td>0.085266</td>\n",
       "    </tr>\n",
       "    <tr>\n",
       "      <th>std</th>\n",
       "      <td>1.012547</td>\n",
       "      <td>0.983394</td>\n",
       "      <td>0.988263</td>\n",
       "      <td>1.006270</td>\n",
       "    </tr>\n",
       "    <tr>\n",
       "      <th>min</th>\n",
       "      <td>-3.248166</td>\n",
       "      <td>-3.378623</td>\n",
       "      <td>-3.491847</td>\n",
       "      <td>-2.833924</td>\n",
       "    </tr>\n",
       "    <tr>\n",
       "      <th>25%</th>\n",
       "      <td>-0.708346</td>\n",
       "      <td>-0.633167</td>\n",
       "      <td>-0.696937</td>\n",
       "      <td>-0.580844</td>\n",
       "    </tr>\n",
       "    <tr>\n",
       "      <th>50%</th>\n",
       "      <td>-0.007899</td>\n",
       "      <td>0.053698</td>\n",
       "      <td>0.030040</td>\n",
       "      <td>0.067205</td>\n",
       "    </tr>\n",
       "    <tr>\n",
       "      <th>75%</th>\n",
       "      <td>0.669993</td>\n",
       "      <td>0.685973</td>\n",
       "      <td>0.681056</td>\n",
       "      <td>0.785649</td>\n",
       "    </tr>\n",
       "    <tr>\n",
       "      <th>max</th>\n",
       "      <td>3.099975</td>\n",
       "      <td>2.944685</td>\n",
       "      <td>3.230061</td>\n",
       "      <td>3.241910</td>\n",
       "    </tr>\n",
       "  </tbody>\n",
       "</table>\n",
       "</div>"
      ],
      "text/plain": [
       "                 0            1            2            3\n",
       "count  1000.000000  1000.000000  1000.000000  1000.000000\n",
       "mean     -0.012565     0.025063    -0.000607     0.085266\n",
       "std       1.012547     0.983394     0.988263     1.006270\n",
       "min      -3.248166    -3.378623    -3.491847    -2.833924\n",
       "25%      -0.708346    -0.633167    -0.696937    -0.580844\n",
       "50%      -0.007899     0.053698     0.030040     0.067205\n",
       "75%       0.669993     0.685973     0.681056     0.785649\n",
       "max       3.099975     2.944685     3.230061     3.241910"
      ]
     },
     "execution_count": 4,
     "metadata": {},
     "output_type": "execute_result"
    }
   ],
   "source": [
    "df.describe()"
   ]
  },
  {
   "cell_type": "code",
   "execution_count": 5,
   "metadata": {},
   "outputs": [
    {
     "data": {
      "text/plain": [
       "<AxesSubplot:>"
      ]
     },
     "execution_count": 5,
     "metadata": {},
     "output_type": "execute_result"
    },
    {
     "data": {
      "image/png": "[encoded data removed]",
      "text/plain": [
       "<Figure size 640x480 with 1 Axes>"
      ]
     },
     "metadata": {},
     "output_type": "display_data"
    }
   ],
   "source": [
    "# Katsotaan onko mukana yli 1,5 neljännesvälin päässä neljänneksestä olevia arvoja\n",
    "# Ne näkyvät boxplotissa erillisinä pisteinä\n",
    "sns.boxplot(data=df)"
   ]
  },
  {
   "cell_type": "markdown",
   "metadata": {},
   "source": [
    "## Rivien poisto"
   ]
  },
  {
   "cell_type": "code",
   "execution_count": 6,
   "metadata": {},
   "outputs": [
    {
     "data": {
      "text/plain": [
       "986"
      ]
     },
     "execution_count": 6,
     "metadata": {},
     "output_type": "execute_result"
    }
   ],
   "source": [
    "# Poistan poikkeavia arvoja (yli 3 keskihajonnan päässä keskiarvostaan) sisältävät rivit\n",
    "\n",
    "df1 = df.copy()\n",
    "\n",
    "for muuttuja in df1:\n",
    "    ka = df[muuttuja].mean()\n",
    "    kh = df[muuttuja].std()\n",
    "    # Suodatan mukaan rivit, jotka ovat korkeintaan kolmen keskihajonnan päässä keskiarvostaan\n",
    "    df1 = df1[abs(df1[muuttuja]-ka) <= 3*kh]\n",
    "\n",
    "# Tarkistan jäljelle jääneiden rivien lukumäärän\n",
    "df1.shape[0]"
   ]
  },
  {
   "cell_type": "code",
   "execution_count": 7,
   "metadata": {},
   "outputs": [
    {
     "data": {
      "text/plain": [
       "975"
      ]
     },
     "execution_count": 7,
     "metadata": {},
     "output_type": "execute_result"
    }
   ],
   "source": [
    "# Poistan poikkeavia arvoja (yli 1,5 neljännesväliä neljänneksestä)\n",
    "\n",
    "df2 = df.copy()\n",
    "\n",
    "for muuttuja in df2:\n",
    "    Q1 = df[muuttuja].quantile(0.25) # alaneljännes\n",
    "    Q3 = df[muuttuja].quantile(0.75) # yläneljännes\n",
    "    IQR = Q3-Q1 # neljännesväli\n",
    "    # Suodatan mukaan rivit, jotka ovat korkeintaan 1,5 neljännesvälin päässä keskiarvostaan\n",
    "    df2 = df2[((df2[muuttuja] >= (Q1-1.5*IQR)) & (df2[muuttuja] <= (Q3 + 1.5*IQR)))]\n",
    "\n",
    "# Tarkistan jäljelle jääneiden rivien lukumäärän    \n",
    "df2.shape[0]"
   ]
  },
  {
   "cell_type": "markdown",
   "metadata": {},
   "source": [
    "## Korvaaminen puuttuvalla arvolla\n",
    "\n",
    "**mask()** on tässä kätevä\n",
    "https://pandas.pydata.org/pandas-docs/stable/reference/api/pandas.DataFrame.mask.html"
   ]
  },
  {
   "cell_type": "code",
   "execution_count": 8,
   "metadata": {},
   "outputs": [
    {
     "data": {
      "text/plain": [
       "0    4\n",
       "1    3\n",
       "2    6\n",
       "3    1\n",
       "dtype: int64"
      ]
     },
     "execution_count": 8,
     "metadata": {},
     "output_type": "execute_result"
    }
   ],
   "source": [
    "# Yli kolmen keskihajonnan päässä keskiarvostaan sijaitsevat puuttuviksi arvoiksi\n",
    "\n",
    "ka = df.mean()\n",
    "kh = df.std()\n",
    "\n",
    "df3 = df.mask(abs((df-ka)/kh) > 3)\n",
    "\n",
    "# Tarkistan puuttuvien arvojen lukumäärät\n",
    "df3.isnull().sum()"
   ]
  },
  {
   "cell_type": "code",
   "execution_count": 9,
   "metadata": {},
   "outputs": [
    {
     "data": {
      "text/plain": [
       "0    6\n",
       "1    7\n",
       "2    7\n",
       "3    5\n",
       "dtype: int64"
      ]
     },
     "execution_count": 9,
     "metadata": {},
     "output_type": "execute_result"
    }
   ],
   "source": [
    "# Yli 1.5 neljännesvälin päässä neljänneksestä sijaitsevat puuttuviksi arvoiksi\n",
    "\n",
    "Q1 = df.quantile(0.25) # alaneljännes\n",
    "Q3 = df.quantile(0.75) # yläneljännes\n",
    "IQR = Q3-Q1\n",
    "\n",
    "#df4 = df.mask(((df - Q3) / (Q3 - Q1) > 1.5) | ((Q1 - df) / (Q3 - Q1) > 1.5))\n",
    "df4 = df.mask((df > Q3+1.5*IQR) | (df < Q1-1.5*IQR))\n",
    "\n",
    "# Tarkistan puuttuvien arvojen lukumäärät\n",
    "df4.isnull().sum()"
   ]
  },
  {
   "cell_type": "markdown",
   "metadata": {},
   "source": [
    "## Korvaaminen toisella arvolla"
   ]
  },
  {
   "cell_type": "code",
   "execution_count": 10,
   "metadata": {},
   "outputs": [
    {
     "data": {
      "text/html": [
       "<div>\n",
       "<style scoped>\n",
       "    .dataframe tbody tr th:only-of-type {\n",
       "        vertical-align: middle;\n",
       "    }\n",
       "\n",
       "    .dataframe tbody tr th {\n",
       "        vertical-align: top;\n",
       "    }\n",
       "\n",
       "    .dataframe thead th {\n",
       "        text-align: right;\n",
       "    }\n",
       "</style>\n",
       "<table border=\"1\" class=\"dataframe\">\n",
       "  <thead>\n",
       "    <tr style=\"text-align: right;\">\n",
       "      <th></th>\n",
       "      <th>0</th>\n",
       "      <th>1</th>\n",
       "      <th>2</th>\n",
       "      <th>3</th>\n",
       "    </tr>\n",
       "  </thead>\n",
       "  <tbody>\n",
       "    <tr>\n",
       "      <th>count</th>\n",
       "      <td>1000.000000</td>\n",
       "      <td>1000.000000</td>\n",
       "      <td>1000.000000</td>\n",
       "      <td>1000.000000</td>\n",
       "    </tr>\n",
       "    <tr>\n",
       "      <th>mean</th>\n",
       "      <td>-0.006124</td>\n",
       "      <td>0.034679</td>\n",
       "      <td>0.006281</td>\n",
       "      <td>0.082109</td>\n",
       "    </tr>\n",
       "    <tr>\n",
       "      <th>std</th>\n",
       "      <td>0.992496</td>\n",
       "      <td>0.967500</td>\n",
       "      <td>0.955554</td>\n",
       "      <td>1.001297</td>\n",
       "    </tr>\n",
       "    <tr>\n",
       "      <th>min</th>\n",
       "      <td>-2.923904</td>\n",
       "      <td>-2.893814</td>\n",
       "      <td>-2.816109</td>\n",
       "      <td>-2.833924</td>\n",
       "    </tr>\n",
       "    <tr>\n",
       "      <th>25%</th>\n",
       "      <td>-0.702480</td>\n",
       "      <td>-0.620002</td>\n",
       "      <td>-0.680599</td>\n",
       "      <td>-0.580844</td>\n",
       "    </tr>\n",
       "    <tr>\n",
       "      <th>50%</th>\n",
       "      <td>-0.008833</td>\n",
       "      <td>0.053698</td>\n",
       "      <td>0.023269</td>\n",
       "      <td>0.067205</td>\n",
       "    </tr>\n",
       "    <tr>\n",
       "      <th>75%</th>\n",
       "      <td>0.669701</td>\n",
       "      <td>0.685973</td>\n",
       "      <td>0.673561</td>\n",
       "      <td>0.782809</td>\n",
       "    </tr>\n",
       "    <tr>\n",
       "      <th>max</th>\n",
       "      <td>2.707483</td>\n",
       "      <td>2.944685</td>\n",
       "      <td>2.547125</td>\n",
       "      <td>2.849078</td>\n",
       "    </tr>\n",
       "  </tbody>\n",
       "</table>\n",
       "</div>"
      ],
      "text/plain": [
       "                 0            1            2            3\n",
       "count  1000.000000  1000.000000  1000.000000  1000.000000\n",
       "mean     -0.006124     0.034679     0.006281     0.082109\n",
       "std       0.992496     0.967500     0.955554     1.001297\n",
       "min      -2.923904    -2.893814    -2.816109    -2.833924\n",
       "25%      -0.702480    -0.620002    -0.680599    -0.580844\n",
       "50%      -0.008833     0.053698     0.023269     0.067205\n",
       "75%       0.669701     0.685973     0.673561     0.782809\n",
       "max       2.707483     2.944685     2.547125     2.849078"
      ]
     },
     "execution_count": 10,
     "metadata": {},
     "output_type": "execute_result"
    }
   ],
   "source": [
    "# Korvaan poikkeavat arvot keskiarvolla\n",
    "\n",
    "ka = df.mean()\n",
    "kh = df.std()\n",
    "\n",
    "df5 = df.mask((abs((df-ka)/kh)) > 3, other=ka, axis=1)\n",
    "\n",
    "# Tarkistan min ja max\n",
    "df5.describe()"
   ]
  },
  {
   "cell_type": "code",
   "execution_count": 11,
   "metadata": {},
   "outputs": [
    {
     "data": {
      "text/html": [
       "<div>\n",
       "<style scoped>\n",
       "    .dataframe tbody tr th:only-of-type {\n",
       "        vertical-align: middle;\n",
       "    }\n",
       "\n",
       "    .dataframe tbody tr th {\n",
       "        vertical-align: top;\n",
       "    }\n",
       "\n",
       "    .dataframe thead th {\n",
       "        text-align: right;\n",
       "    }\n",
       "</style>\n",
       "<table border=\"1\" class=\"dataframe\">\n",
       "  <thead>\n",
       "    <tr style=\"text-align: right;\">\n",
       "      <th></th>\n",
       "      <th>0</th>\n",
       "      <th>1</th>\n",
       "      <th>2</th>\n",
       "      <th>3</th>\n",
       "    </tr>\n",
       "  </thead>\n",
       "  <tbody>\n",
       "    <tr>\n",
       "      <th>count</th>\n",
       "      <td>1000.000000</td>\n",
       "      <td>1000.000000</td>\n",
       "      <td>1000.000000</td>\n",
       "      <td>1000.000000</td>\n",
       "    </tr>\n",
       "    <tr>\n",
       "      <th>mean</th>\n",
       "      <td>-0.012074</td>\n",
       "      <td>0.025604</td>\n",
       "      <td>0.000285</td>\n",
       "      <td>0.085024</td>\n",
       "    </tr>\n",
       "    <tr>\n",
       "      <th>std</th>\n",
       "      <td>1.010433</td>\n",
       "      <td>0.981646</td>\n",
       "      <td>0.983451</td>\n",
       "      <td>1.005540</td>\n",
       "    </tr>\n",
       "    <tr>\n",
       "      <th>min</th>\n",
       "      <td>-3.000000</td>\n",
       "      <td>-3.000000</td>\n",
       "      <td>-3.000000</td>\n",
       "      <td>-2.833924</td>\n",
       "    </tr>\n",
       "    <tr>\n",
       "      <th>25%</th>\n",
       "      <td>-0.708346</td>\n",
       "      <td>-0.633167</td>\n",
       "      <td>-0.696937</td>\n",
       "      <td>-0.580844</td>\n",
       "    </tr>\n",
       "    <tr>\n",
       "      <th>50%</th>\n",
       "      <td>-0.007899</td>\n",
       "      <td>0.053698</td>\n",
       "      <td>0.030040</td>\n",
       "      <td>0.067205</td>\n",
       "    </tr>\n",
       "    <tr>\n",
       "      <th>75%</th>\n",
       "      <td>0.669993</td>\n",
       "      <td>0.685973</td>\n",
       "      <td>0.681056</td>\n",
       "      <td>0.785649</td>\n",
       "    </tr>\n",
       "    <tr>\n",
       "      <th>max</th>\n",
       "      <td>3.000000</td>\n",
       "      <td>2.944685</td>\n",
       "      <td>3.000000</td>\n",
       "      <td>3.000000</td>\n",
       "    </tr>\n",
       "  </tbody>\n",
       "</table>\n",
       "</div>"
      ],
      "text/plain": [
       "                 0            1            2            3\n",
       "count  1000.000000  1000.000000  1000.000000  1000.000000\n",
       "mean     -0.012074     0.025604     0.000285     0.085024\n",
       "std       1.010433     0.981646     0.983451     1.005540\n",
       "min      -3.000000    -3.000000    -3.000000    -2.833924\n",
       "25%      -0.708346    -0.633167    -0.696937    -0.580844\n",
       "50%      -0.007899     0.053698     0.030040     0.067205\n",
       "75%       0.669993     0.685973     0.681056     0.785649\n",
       "max       3.000000     2.944685     3.000000     3.000000"
      ]
     },
     "execution_count": 11,
     "metadata": {},
     "output_type": "execute_result"
    }
   ],
   "source": [
    "# Korvaan kaikki arvot, jotka ovat itseisarvoltaan yli 3, arvolla 3 tai -3\n",
    "\n",
    "df6 = df.copy()\n",
    "\n",
    "# sign tuottaa oikean etumerkin (+/-)\n",
    "df6[abs(df6) > 3] = np.sign(df6)*3\n",
    "\n",
    "# Tarkistan min ja max\n",
    "df6.describe()"
   ]
  },
  {
   "cell_type": "markdown",
   "metadata": {},
   "source": [
    "## Lisätietoa\n",
    "\n",
    "Data-analytiikka Pythonilla: https://tilastoapu.wordpress.com/python/"
   ]
  }
 ],
 "metadata": {
  "kernelspec": {
   "display_name": "Python 3 (ipykernel)",
   "language": "python",
   "name": "python3"
  },
  "language_info": {
   "codemirror_mode": {
    "name": "ipython",
    "version": 3
   },
   "file_extension": ".py",
   "mimetype": "text/x-python",
   "name": "python",
   "nbconvert_exporter": "python",
   "pygments_lexer": "ipython3",
   "version": "3.9.13"
  }
 },
 "nbformat": 4,
 "nbformat_minor": 2
}
