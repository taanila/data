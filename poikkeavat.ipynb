{
 "cells": [
  {
   "cell_type": "code",
   "execution_count": 1,
   "metadata": {},
   "outputs": [
    {
     "name": "stdout",
     "output_type": "stream",
     "text": [
      "Päivitetty 2023-05-02 / Aki Taanila\n"
     ]
    }
   ],
   "source": [
    "from datetime import datetime\n",
    "print(f'Päivitetty {datetime.now().date()} / Aki Taanila')"
   ]
  },
  {
   "cell_type": "markdown",
   "metadata": {},
   "source": [
    "# Poikkeavien arvojen poistaminen tai korvaaminen\n",
    "\n",
    "Muista selvästi poikkeavat arvot voivat olla virheellisiä tai todellisia.\n",
    "\n",
    "Jos poikkeavat arvot osoittautuvat virheellisiksi, niin ne on syytä poistaa datasta. Kyseeseen voi tulla poikkeavien arvojen korvaaminen puuttuvilla arvoilla, rivien poisto tai korvaaminen jollain muulla arvolla.\n",
    "\n",
    "Vaikka poikkeavat arvot olisivat todellisia, niin niiden poistaminen voi olla aiheellista esimerkiksi ennustemallien rakentamisessa.\n",
    "\n",
    "Poikkeavien arvojen kriteerinä voidaa pitää esimerkiksi seuraavia:\n",
    "* Arvot, jotka ovat yli kolmen keskihajonnan päässä keskiarvostaan.\n",
    "* Arvot, jotka ovat yli 1,5 neljännesvälin päässä neljänneksestä. Neljännesväli (inter quartile range) on yläneljänneksen ja alaneljänneksen erotus. Ruutu- ja janakaavioon (boxplot) yli 1,5 neljännesvälin päässä olevat arvot merkitään oletusarvoisesti erillisinä pisteinä."
   ]
  },
  {
   "cell_type": "code",
   "execution_count": 2,
   "metadata": {},
   "outputs": [],
   "source": [
    "import numpy as np\n",
    "import pandas as pd\n",
    "import seaborn as sns"
   ]
  },
  {
   "cell_type": "code",
   "execution_count": 3,
   "metadata": {},
   "outputs": [],
   "source": [
    "# Arvotaan normaalijakaumasta N(0, 1) satunnaislukuja (tuhat riviä, neljä saraketta)\n",
    "df = pd.DataFrame(np.random.randn(1000, 4), columns=['x1', 'x2', 'x3', 'x4'])"
   ]
  },
  {
   "cell_type": "code",
   "execution_count": 4,
   "metadata": {},
   "outputs": [
    {
     "data": {
      "text/html": [
       "<div>\n",
       "<style scoped>\n",
       "    .dataframe tbody tr th:only-of-type {\n",
       "        vertical-align: middle;\n",
       "    }\n",
       "\n",
       "    .dataframe tbody tr th {\n",
       "        vertical-align: top;\n",
       "    }\n",
       "\n",
       "    .dataframe thead th {\n",
       "        text-align: right;\n",
       "    }\n",
       "</style>\n",
       "<table border=\"1\" class=\"dataframe\">\n",
       "  <thead>\n",
       "    <tr style=\"text-align: right;\">\n",
       "      <th></th>\n",
       "      <th>x1</th>\n",
       "      <th>x2</th>\n",
       "      <th>x3</th>\n",
       "      <th>x4</th>\n",
       "    </tr>\n",
       "  </thead>\n",
       "  <tbody>\n",
       "    <tr>\n",
       "      <th>count</th>\n",
       "      <td>1000.000000</td>\n",
       "      <td>1000.000000</td>\n",
       "      <td>1000.000000</td>\n",
       "      <td>1000.000000</td>\n",
       "    </tr>\n",
       "    <tr>\n",
       "      <th>mean</th>\n",
       "      <td>-0.000831</td>\n",
       "      <td>-0.006840</td>\n",
       "      <td>0.015542</td>\n",
       "      <td>0.002997</td>\n",
       "    </tr>\n",
       "    <tr>\n",
       "      <th>std</th>\n",
       "      <td>0.998738</td>\n",
       "      <td>1.007266</td>\n",
       "      <td>0.975222</td>\n",
       "      <td>0.986850</td>\n",
       "    </tr>\n",
       "    <tr>\n",
       "      <th>min</th>\n",
       "      <td>-2.780087</td>\n",
       "      <td>-3.274975</td>\n",
       "      <td>-3.358583</td>\n",
       "      <td>-3.370129</td>\n",
       "    </tr>\n",
       "    <tr>\n",
       "      <th>25%</th>\n",
       "      <td>-0.663583</td>\n",
       "      <td>-0.738387</td>\n",
       "      <td>-0.660966</td>\n",
       "      <td>-0.677745</td>\n",
       "    </tr>\n",
       "    <tr>\n",
       "      <th>50%</th>\n",
       "      <td>0.011631</td>\n",
       "      <td>-0.010067</td>\n",
       "      <td>0.021227</td>\n",
       "      <td>0.018423</td>\n",
       "    </tr>\n",
       "    <tr>\n",
       "      <th>75%</th>\n",
       "      <td>0.690525</td>\n",
       "      <td>0.728051</td>\n",
       "      <td>0.650843</td>\n",
       "      <td>0.649179</td>\n",
       "    </tr>\n",
       "    <tr>\n",
       "      <th>max</th>\n",
       "      <td>2.954667</td>\n",
       "      <td>2.910196</td>\n",
       "      <td>3.733134</td>\n",
       "      <td>3.060203</td>\n",
       "    </tr>\n",
       "  </tbody>\n",
       "</table>\n",
       "</div>"
      ],
      "text/plain": [
       "                x1           x2           x3           x4\n",
       "count  1000.000000  1000.000000  1000.000000  1000.000000\n",
       "mean     -0.000831    -0.006840     0.015542     0.002997\n",
       "std       0.998738     1.007266     0.975222     0.986850\n",
       "min      -2.780087    -3.274975    -3.358583    -3.370129\n",
       "25%      -0.663583    -0.738387    -0.660966    -0.677745\n",
       "50%       0.011631    -0.010067     0.021227     0.018423\n",
       "75%       0.690525     0.728051     0.650843     0.649179\n",
       "max       2.954667     2.910196     3.733134     3.060203"
      ]
     },
     "execution_count": 4,
     "metadata": {},
     "output_type": "execute_result"
    }
   ],
   "source": [
    "# Katsotaan tilastolliset tunnusluvut\n",
    "df.describe()"
   ]
  },
  {
   "cell_type": "code",
   "execution_count": 5,
   "metadata": {},
   "outputs": [
    {
     "data": {
      "text/plain": [
       "<Axes: >"
      ]
     },
     "execution_count": 5,
     "metadata": {},
     "output_type": "execute_result"
    },
    {
     "data": {
      "image/png": "[encoded data removed]",
      "text/plain": [
       "<Figure size 640x480 with 1 Axes>"
      ]
     },
     "metadata": {},
     "output_type": "display_data"
    }
   ],
   "source": [
    "# Katsotaan onko mukana yli 1,5 neljännesvälin päässä neljänneksestä olevia arvoja\n",
    "# Ne näkyvät boxplotissa erillisinä pisteinä\n",
    "sns.boxplot(data=df)"
   ]
  },
  {
   "cell_type": "markdown",
   "metadata": {},
   "source": [
    "## Korvaaminen puuttuvalla arvolla\n",
    "\n",
    "**mask**-funktio on tässä kätevä\n",
    "https://pandas.pydata.org/pandas-docs/stable/reference/api/pandas.DataFrame.mask.html\n",
    "\n",
    "**mask**-funktio korvaa ehdon mukaiset arvot puuttuvalla arvolla."
   ]
  },
  {
   "cell_type": "code",
   "execution_count": 6,
   "metadata": {},
   "outputs": [
    {
     "data": {
      "text/plain": [
       "x1    0\n",
       "x2    2\n",
       "x3    3\n",
       "x4    3\n",
       "dtype: int64"
      ]
     },
     "execution_count": 6,
     "metadata": {},
     "output_type": "execute_result"
    }
   ],
   "source": [
    "ka = df.mean() # keskiarvo\n",
    "kh = df.std() # keskihajonta\n",
    "\n",
    "# Yli kolmen keskihajonnan päässä keskiarvostaan sijaitsevat puuttuviksi arvoiksi\n",
    "df1 = df.mask(abs((df-ka)/kh) > 3)\n",
    "\n",
    "# Tarkistan puuttuvien arvojen lukumäärät\n",
    "df1.isnull().sum()"
   ]
  },
  {
   "cell_type": "code",
   "execution_count": 7,
   "metadata": {},
   "outputs": [
    {
     "data": {
      "text/plain": [
       "x1    6\n",
       "x2    2\n",
       "x3    6\n",
       "x4    8\n",
       "dtype: int64"
      ]
     },
     "execution_count": 7,
     "metadata": {},
     "output_type": "execute_result"
    }
   ],
   "source": [
    "Q1 = df.quantile(0.25) # alaneljännes\n",
    "Q3 = df.quantile(0.75) # yläneljännes\n",
    "IQR = Q3-Q1 # neljännesväli\n",
    "\n",
    "# Yli 1.5 neljännesvälin päässä neljänneksestä sijaitsevat puuttuviksi arvoiksi\n",
    "df2 = df.mask(((df < Q1-1.5*IQR) | (df > Q3+1.5*IQR)))\n",
    "\n",
    "# Tarkistan puuttuvien arvojen lukumäärät\n",
    "df2.isnull().sum()"
   ]
  },
  {
   "cell_type": "markdown",
   "metadata": {},
   "source": [
    "## Rivien poisto\n",
    "\n",
    "**mask**-funktio on tässä kätevä\n",
    "https://pandas.pydata.org/pandas-docs/stable/reference/api/pandas.DataFrame.mask.html\n",
    "\n",
    "**mask**-funktio korvaa ehdon mukaiset arvot puuttuvalla arvolla. Tämän jälkeen puuttuvia arvoja sisältävät rivit voi poistaa **dropna**-funktiolla."
   ]
  },
  {
   "cell_type": "code",
   "execution_count": 8,
   "metadata": {},
   "outputs": [
    {
     "data": {
      "text/plain": [
       "992"
      ]
     },
     "execution_count": 8,
     "metadata": {},
     "output_type": "execute_result"
    }
   ],
   "source": [
    "# Poistan poikkeavia arvoja (yli 3 keskihajonnan päässä keskiarvostaan) sisältävät rivit\n",
    "df3 = df.mask(abs((df-ka)/kh) > 3).dropna()\n",
    "\n",
    "# Tarkistan jäljelle jääneiden rivien lukumäärän\n",
    "df3.shape[0]"
   ]
  },
  {
   "cell_type": "code",
   "execution_count": 9,
   "metadata": {},
   "outputs": [
    {
     "data": {
      "text/plain": [
       "978"
      ]
     },
     "execution_count": 9,
     "metadata": {},
     "output_type": "execute_result"
    }
   ],
   "source": [
    "# Poistan poikkeavia arvoja (yli 1,5 neljännesväliä neljänneksestä)\n",
    "df4 = df.mask((df < (Q1-1.5*IQR)) | (df > (Q3+1.5*IQR))).dropna()\n",
    "\n",
    "# Tarkistan jäljelle jääneiden rivien lukumäärän    \n",
    "df4.shape[0]"
   ]
  },
  {
   "cell_type": "markdown",
   "metadata": {},
   "source": [
    "## Korvaaminen toisella arvolla\n",
    "\n",
    "**mask**-funktio on tässä kätevä https://pandas.pydata.org/pandas-docs/stable/reference/api/pandas.DataFrame.mask.html\n",
    "\n",
    "**mask**-funktion **other**-parametrilla voi määrätä millä arvolla ehdon mukaiset arvot korvataan."
   ]
  },
  {
   "cell_type": "code",
   "execution_count": 10,
   "metadata": {},
   "outputs": [
    {
     "data": {
      "text/html": [
       "<div>\n",
       "<style scoped>\n",
       "    .dataframe tbody tr th:only-of-type {\n",
       "        vertical-align: middle;\n",
       "    }\n",
       "\n",
       "    .dataframe tbody tr th {\n",
       "        vertical-align: top;\n",
       "    }\n",
       "\n",
       "    .dataframe thead th {\n",
       "        text-align: right;\n",
       "    }\n",
       "</style>\n",
       "<table border=\"1\" class=\"dataframe\">\n",
       "  <thead>\n",
       "    <tr style=\"text-align: right;\">\n",
       "      <th></th>\n",
       "      <th>x1</th>\n",
       "      <th>x2</th>\n",
       "      <th>x3</th>\n",
       "      <th>x4</th>\n",
       "    </tr>\n",
       "  </thead>\n",
       "  <tbody>\n",
       "    <tr>\n",
       "      <th>count</th>\n",
       "      <td>1000.000000</td>\n",
       "      <td>1000.000000</td>\n",
       "      <td>1000.000000</td>\n",
       "      <td>1000.000000</td>\n",
       "    </tr>\n",
       "    <tr>\n",
       "      <th>mean</th>\n",
       "      <td>-0.000831</td>\n",
       "      <td>-0.006528</td>\n",
       "      <td>0.015124</td>\n",
       "      <td>0.003303</td>\n",
       "    </tr>\n",
       "    <tr>\n",
       "      <th>std</th>\n",
       "      <td>0.998738</td>\n",
       "      <td>1.006298</td>\n",
       "      <td>0.971383</td>\n",
       "      <td>0.985454</td>\n",
       "    </tr>\n",
       "    <tr>\n",
       "      <th>min</th>\n",
       "      <td>-2.780087</td>\n",
       "      <td>-3.000000</td>\n",
       "      <td>-3.000000</td>\n",
       "      <td>-3.000000</td>\n",
       "    </tr>\n",
       "    <tr>\n",
       "      <th>25%</th>\n",
       "      <td>-0.663583</td>\n",
       "      <td>-0.738387</td>\n",
       "      <td>-0.660966</td>\n",
       "      <td>-0.677745</td>\n",
       "    </tr>\n",
       "    <tr>\n",
       "      <th>50%</th>\n",
       "      <td>0.011631</td>\n",
       "      <td>-0.010067</td>\n",
       "      <td>0.021227</td>\n",
       "      <td>0.018423</td>\n",
       "    </tr>\n",
       "    <tr>\n",
       "      <th>75%</th>\n",
       "      <td>0.690525</td>\n",
       "      <td>0.728051</td>\n",
       "      <td>0.650843</td>\n",
       "      <td>0.649179</td>\n",
       "    </tr>\n",
       "    <tr>\n",
       "      <th>max</th>\n",
       "      <td>2.954667</td>\n",
       "      <td>2.910196</td>\n",
       "      <td>3.000000</td>\n",
       "      <td>3.000000</td>\n",
       "    </tr>\n",
       "  </tbody>\n",
       "</table>\n",
       "</div>"
      ],
      "text/plain": [
       "                x1           x2           x3           x4\n",
       "count  1000.000000  1000.000000  1000.000000  1000.000000\n",
       "mean     -0.000831    -0.006528     0.015124     0.003303\n",
       "std       0.998738     1.006298     0.971383     0.985454\n",
       "min      -2.780087    -3.000000    -3.000000    -3.000000\n",
       "25%      -0.663583    -0.738387    -0.660966    -0.677745\n",
       "50%       0.011631    -0.010067     0.021227     0.018423\n",
       "75%       0.690525     0.728051     0.650843     0.649179\n",
       "max       2.954667     2.910196     3.000000     3.000000"
      ]
     },
     "execution_count": 10,
     "metadata": {},
     "output_type": "execute_result"
    }
   ],
   "source": [
    "# Korvaan poikkeavat arvot etumerkistä riippuen joko arvolla 3 tai arvolla -3\n",
    "df5 = df.mask(abs((df-ka)/kh)>3, other=np.sign(df)*3)\n",
    "\n",
    "# Tarkistan min ja max\n",
    "df5.describe()"
   ]
  },
  {
   "cell_type": "markdown",
   "metadata": {},
   "source": [
    "## Lisätietoa\n",
    "\n",
    "Data-analytiikka Pythonilla https://tilastoapu.wordpress.com/python/"
   ]
  }
 ],
 "metadata": {
  "kernelspec": {
   "display_name": "Python 3 (ipykernel)",
   "language": "python",
   "name": "python3"
  },
  "language_info": {
   "codemirror_mode": {
    "name": "ipython",
    "version": 3
   },
   "file_extension": ".py",
   "mimetype": "text/x-python",
   "name": "python",
   "nbconvert_exporter": "python",
   "pygments_lexer": "ipython3",
   "version": "3.10.9"
  }
 },
 "nbformat": 4,
 "nbformat_minor": 2
}
