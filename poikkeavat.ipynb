{
 "cells": [
  {
   "cell_type": "code",
   "execution_count": 1,
   "metadata": {},
   "outputs": [
    {
     "name": "stdout",
     "output_type": "stream",
     "text": [
      "Päivitetty 2021-11-07 10:56:30.464432\n"
     ]
    }
   ],
   "source": [
    "from datetime import datetime\n",
    "print(f'Päivitetty {datetime.now()}')"
   ]
  },
  {
   "cell_type": "markdown",
   "metadata": {},
   "source": [
    "# Poikkeavien arvojen poistaminen\n",
    "\n",
    "Muista selvästi poikkeavat arvot voivat olla virheellisiä tai todellisia.\n",
    "\n",
    "Jos poikkeavat arvot osoittautuvat virheellisiksi, niin ne on syytä poistaa datasta. Kyseeseen voi tulla poikkeavia arvoja sisältävien rivien poisto, poikkeavien arvojen korvaaminen puuttuvan arvon merkillä tai korvaaminen esimerkiksi mediaanilla.\n",
    "\n",
    "Vaikka poikkeavat arvot olisivat todellisia, niin niiden poistaminen voi olla aiheellista esimerkiksi ennustemallien rakentamisessa.\n",
    "\n",
    "Poikkeavien arvojen kriteerinä voidaa pitää esimerkiksi seuraavia:\n",
    "* Arvot, jotka ovat yli kolmen keskihajonnan päässä keskiarvostaan.\n",
    "* Arvot, jotka ovat yli 1,5 neljännesvälin päässä neljänneksestä. Neljännesväli (inter quartile range) on yläneljänneksen ja alaneljänneksen erotus. Ruutu- ja janakaavioon (boxplot) yli 1,5 neljännesvälin päässä olevat arvot merkitään oletusarvoisesti erillisinä pisteinä."
   ]
  },
  {
   "cell_type": "code",
   "execution_count": 2,
   "metadata": {},
   "outputs": [],
   "source": [
    "import numpy as np\n",
    "import pandas as pd\n",
    "import seaborn as sns\n",
    "\n",
    "%matplotlib inline"
   ]
  },
  {
   "cell_type": "code",
   "execution_count": 3,
   "metadata": {},
   "outputs": [],
   "source": [
    "# Arvotaan normaalijakaumasta satunnaislukuja (tuhat riviä, neljä saraketta)\n",
    "df = pd.DataFrame(np.random.randn(1000, 4))"
   ]
  },
  {
   "cell_type": "code",
   "execution_count": 4,
   "metadata": {},
   "outputs": [
    {
     "data": {
      "text/html": [
       "<div>\n",
       "<style scoped>\n",
       "    .dataframe tbody tr th:only-of-type {\n",
       "        vertical-align: middle;\n",
       "    }\n",
       "\n",
       "    .dataframe tbody tr th {\n",
       "        vertical-align: top;\n",
       "    }\n",
       "\n",
       "    .dataframe thead th {\n",
       "        text-align: right;\n",
       "    }\n",
       "</style>\n",
       "<table border=\"1\" class=\"dataframe\">\n",
       "  <thead>\n",
       "    <tr style=\"text-align: right;\">\n",
       "      <th></th>\n",
       "      <th>0</th>\n",
       "      <th>1</th>\n",
       "      <th>2</th>\n",
       "      <th>3</th>\n",
       "    </tr>\n",
       "  </thead>\n",
       "  <tbody>\n",
       "    <tr>\n",
       "      <th>count</th>\n",
       "      <td>1000.000000</td>\n",
       "      <td>1000.000000</td>\n",
       "      <td>1000.000000</td>\n",
       "      <td>1000.000000</td>\n",
       "    </tr>\n",
       "    <tr>\n",
       "      <th>mean</th>\n",
       "      <td>-0.011607</td>\n",
       "      <td>-0.036887</td>\n",
       "      <td>0.026013</td>\n",
       "      <td>0.031449</td>\n",
       "    </tr>\n",
       "    <tr>\n",
       "      <th>std</th>\n",
       "      <td>1.028500</td>\n",
       "      <td>0.986703</td>\n",
       "      <td>1.010202</td>\n",
       "      <td>0.983185</td>\n",
       "    </tr>\n",
       "    <tr>\n",
       "      <th>min</th>\n",
       "      <td>-4.114530</td>\n",
       "      <td>-3.069249</td>\n",
       "      <td>-3.496985</td>\n",
       "      <td>-2.936617</td>\n",
       "    </tr>\n",
       "    <tr>\n",
       "      <th>25%</th>\n",
       "      <td>-0.762319</td>\n",
       "      <td>-0.721525</td>\n",
       "      <td>-0.672077</td>\n",
       "      <td>-0.617186</td>\n",
       "    </tr>\n",
       "    <tr>\n",
       "      <th>50%</th>\n",
       "      <td>0.004835</td>\n",
       "      <td>-0.064189</td>\n",
       "      <td>0.010613</td>\n",
       "      <td>0.023360</td>\n",
       "    </tr>\n",
       "    <tr>\n",
       "      <th>75%</th>\n",
       "      <td>0.661369</td>\n",
       "      <td>0.614052</td>\n",
       "      <td>0.712109</td>\n",
       "      <td>0.701054</td>\n",
       "    </tr>\n",
       "    <tr>\n",
       "      <th>max</th>\n",
       "      <td>3.443252</td>\n",
       "      <td>2.949649</td>\n",
       "      <td>3.152644</td>\n",
       "      <td>2.743422</td>\n",
       "    </tr>\n",
       "  </tbody>\n",
       "</table>\n",
       "</div>"
      ],
      "text/plain": [
       "                 0            1            2            3\n",
       "count  1000.000000  1000.000000  1000.000000  1000.000000\n",
       "mean     -0.011607    -0.036887     0.026013     0.031449\n",
       "std       1.028500     0.986703     1.010202     0.983185\n",
       "min      -4.114530    -3.069249    -3.496985    -2.936617\n",
       "25%      -0.762319    -0.721525    -0.672077    -0.617186\n",
       "50%       0.004835    -0.064189     0.010613     0.023360\n",
       "75%       0.661369     0.614052     0.712109     0.701054\n",
       "max       3.443252     2.949649     3.152644     2.743422"
      ]
     },
     "execution_count": 4,
     "metadata": {},
     "output_type": "execute_result"
    }
   ],
   "source": [
    "df.describe()"
   ]
  },
  {
   "cell_type": "code",
   "execution_count": 5,
   "metadata": {},
   "outputs": [
    {
     "data": {
      "text/plain": [
       "<AxesSubplot:>"
      ]
     },
     "execution_count": 5,
     "metadata": {},
     "output_type": "execute_result"
    },
    {
     "data": {
      "image/png": "[encoded data removed]",
      "text/plain": [
       "<Figure size 432x288 with 1 Axes>"
      ]
     },
     "metadata": {
      "needs_background": "light"
     },
     "output_type": "display_data"
    }
   ],
   "source": [
    "sns.boxplot(data = df)"
   ]
  },
  {
   "cell_type": "markdown",
   "metadata": {},
   "source": [
    "## Rivien poisto"
   ]
  },
  {
   "cell_type": "code",
   "execution_count": 6,
   "metadata": {},
   "outputs": [
    {
     "data": {
      "text/plain": [
       "991"
      ]
     },
     "execution_count": 6,
     "metadata": {},
     "output_type": "execute_result"
    }
   ],
   "source": [
    "# Poistan poikkeavia arvoja (yli 3 keskihajonnan päässä keskiarvostaan) sisältävät rivit\n",
    "\n",
    "df1 = df.copy()\n",
    "\n",
    "for muuttuja in df1:\n",
    "    \n",
    "    ka = df[muuttuja].mean()\n",
    "    kh = df[muuttuja].std()\n",
    "    \n",
    "    # Suodatan mukaan rivit, jotka ovat korkeintaan kolmen keskihajonnan päässä keskiarvostaan\n",
    "    df1 = df1[abs(df1[muuttuja] - ka) <= 3 * kh]\n",
    "\n",
    "# Tarkistan jäljelle jääneiden rivien lukumäärän\n",
    "df1.shape[0]"
   ]
  },
  {
   "cell_type": "code",
   "execution_count": 7,
   "metadata": {},
   "outputs": [
    {
     "data": {
      "text/plain": [
       "972"
      ]
     },
     "execution_count": 7,
     "metadata": {},
     "output_type": "execute_result"
    }
   ],
   "source": [
    "# Poistan poikkeavia arvoja (yli 1,5 neljännesväliä neljänneksestä)\n",
    "\n",
    "df2 = df.copy()\n",
    "\n",
    "for muuttuja in df2:\n",
    "    \n",
    "    Q1 = df[muuttuja].quantile(0.25) # alaneljännes\n",
    "    Q3 = df[muuttuja].quantile(0.75) # yläneljännes\n",
    "    IQR = Q3 - Q1 # neljännesväli\n",
    "    \n",
    "    df2 = df2[((df2[muuttuja] >= (Q1 - 1.5 * IQR)) & (df2[muuttuja] <= (Q3 + 1.5 * IQR)))]\n",
    "\n",
    "# Tarkistan jäljelle jääneiden rivien lukumäärän    \n",
    "df2.shape[0]"
   ]
  },
  {
   "cell_type": "markdown",
   "metadata": {},
   "source": [
    "## Korvaaminen puuttuvalla arvolla\n",
    "\n",
    "**mask()** on tässä kätevä\n",
    "https://pandas.pydata.org/pandas-docs/stable/reference/api/pandas.DataFrame.mask.html"
   ]
  },
  {
   "cell_type": "code",
   "execution_count": 8,
   "metadata": {},
   "outputs": [
    {
     "data": {
      "text/plain": [
       "0    3\n",
       "1    2\n",
       "2    3\n",
       "3    1\n",
       "dtype: int64"
      ]
     },
     "execution_count": 8,
     "metadata": {},
     "output_type": "execute_result"
    }
   ],
   "source": [
    "# Yli kolmen keskihajonnan päässä keskiarvostaan sijaitsevat puuttuviksi arvoiksi\n",
    "\n",
    "ka = df.mean()\n",
    "kh = df.std()\n",
    "\n",
    "df3 = df.mask(abs((df - ka) / kh) > 3)\n",
    "\n",
    "# Tarkistan puuttuvien arvojen lukumäärät\n",
    "df3.isnull().sum()"
   ]
  },
  {
   "cell_type": "code",
   "execution_count": 9,
   "metadata": {},
   "outputs": [
    {
     "data": {
      "text/plain": [
       "0    6\n",
       "1    9\n",
       "2    7\n",
       "3    6\n",
       "dtype: int64"
      ]
     },
     "execution_count": 9,
     "metadata": {},
     "output_type": "execute_result"
    }
   ],
   "source": [
    "# Yli 1.5 neljännesvälin päässä neljänneksestä sijaitsevat puuttuviksi arvoiksi\n",
    "\n",
    "Q1 = df.quantile(0.25) # alaneljännes\n",
    "Q3 = df.quantile(0.75) # yläneljännes\n",
    "IQR = Q3-Q1\n",
    "\n",
    "#df4 = df.mask(((df - Q3) / (Q3 - Q1) > 1.5) | ((Q1 - df) / (Q3 - Q1) > 1.5))\n",
    "df4 = df.mask((df > Q3 + 1.5 * IQR) | ( df < Q1 - 1.5 * IQR))\n",
    "\n",
    "# Tarkistan puuttuvien arvojen lukumäärät\n",
    "df4.isnull().sum()"
   ]
  },
  {
   "cell_type": "markdown",
   "metadata": {},
   "source": [
    "## Korvaaminen toisella arvolla"
   ]
  },
  {
   "cell_type": "code",
   "execution_count": 10,
   "metadata": {},
   "outputs": [
    {
     "data": {
      "text/html": [
       "<div>\n",
       "<style scoped>\n",
       "    .dataframe tbody tr th:only-of-type {\n",
       "        vertical-align: middle;\n",
       "    }\n",
       "\n",
       "    .dataframe tbody tr th {\n",
       "        vertical-align: top;\n",
       "    }\n",
       "\n",
       "    .dataframe thead th {\n",
       "        text-align: right;\n",
       "    }\n",
       "</style>\n",
       "<table border=\"1\" class=\"dataframe\">\n",
       "  <thead>\n",
       "    <tr style=\"text-align: right;\">\n",
       "      <th></th>\n",
       "      <th>0</th>\n",
       "      <th>1</th>\n",
       "      <th>2</th>\n",
       "      <th>3</th>\n",
       "    </tr>\n",
       "  </thead>\n",
       "  <tbody>\n",
       "    <tr>\n",
       "      <th>count</th>\n",
       "      <td>1000.000000</td>\n",
       "      <td>1000.000000</td>\n",
       "      <td>1000.000000</td>\n",
       "      <td>1000.000000</td>\n",
       "    </tr>\n",
       "    <tr>\n",
       "      <th>mean</th>\n",
       "      <td>-0.014150</td>\n",
       "      <td>-0.036841</td>\n",
       "      <td>0.029469</td>\n",
       "      <td>0.034417</td>\n",
       "    </tr>\n",
       "    <tr>\n",
       "      <th>std</th>\n",
       "      <td>1.009365</td>\n",
       "      <td>0.977471</td>\n",
       "      <td>0.994442</td>\n",
       "      <td>0.978686</td>\n",
       "    </tr>\n",
       "    <tr>\n",
       "      <th>min</th>\n",
       "      <td>-2.915918</td>\n",
       "      <td>-2.989429</td>\n",
       "      <td>-2.956451</td>\n",
       "      <td>-2.783593</td>\n",
       "    </tr>\n",
       "    <tr>\n",
       "      <th>25%</th>\n",
       "      <td>-0.761158</td>\n",
       "      <td>-0.718861</td>\n",
       "      <td>-0.671028</td>\n",
       "      <td>-0.616110</td>\n",
       "    </tr>\n",
       "    <tr>\n",
       "      <th>50%</th>\n",
       "      <td>-0.007279</td>\n",
       "      <td>-0.062964</td>\n",
       "      <td>0.017710</td>\n",
       "      <td>0.026703</td>\n",
       "    </tr>\n",
       "    <tr>\n",
       "      <th>75%</th>\n",
       "      <td>0.656439</td>\n",
       "      <td>0.610284</td>\n",
       "      <td>0.709917</td>\n",
       "      <td>0.701054</td>\n",
       "    </tr>\n",
       "    <tr>\n",
       "      <th>max</th>\n",
       "      <td>2.897429</td>\n",
       "      <td>2.893965</td>\n",
       "      <td>2.941183</td>\n",
       "      <td>2.743422</td>\n",
       "    </tr>\n",
       "  </tbody>\n",
       "</table>\n",
       "</div>"
      ],
      "text/plain": [
       "                 0            1            2            3\n",
       "count  1000.000000  1000.000000  1000.000000  1000.000000\n",
       "mean     -0.014150    -0.036841     0.029469     0.034417\n",
       "std       1.009365     0.977471     0.994442     0.978686\n",
       "min      -2.915918    -2.989429    -2.956451    -2.783593\n",
       "25%      -0.761158    -0.718861    -0.671028    -0.616110\n",
       "50%      -0.007279    -0.062964     0.017710     0.026703\n",
       "75%       0.656439     0.610284     0.709917     0.701054\n",
       "max       2.897429     2.893965     2.941183     2.743422"
      ]
     },
     "execution_count": 10,
     "metadata": {},
     "output_type": "execute_result"
    }
   ],
   "source": [
    "# Korvaan poikkeavat arvot keskiarvolla\n",
    "\n",
    "ka = df.mean()\n",
    "kh = df.std()\n",
    "\n",
    "df5 = df.mask((abs((df - ka)/kh)) > 3, other = ka, axis = 1)\n",
    "\n",
    "# Tarkistan min ja max\n",
    "df5.describe()"
   ]
  },
  {
   "cell_type": "code",
   "execution_count": 11,
   "metadata": {},
   "outputs": [
    {
     "data": {
      "text/html": [
       "<div>\n",
       "<style scoped>\n",
       "    .dataframe tbody tr th:only-of-type {\n",
       "        vertical-align: middle;\n",
       "    }\n",
       "\n",
       "    .dataframe tbody tr th {\n",
       "        vertical-align: top;\n",
       "    }\n",
       "\n",
       "    .dataframe thead th {\n",
       "        text-align: right;\n",
       "    }\n",
       "</style>\n",
       "<table border=\"1\" class=\"dataframe\">\n",
       "  <thead>\n",
       "    <tr style=\"text-align: right;\">\n",
       "      <th></th>\n",
       "      <th>0</th>\n",
       "      <th>1</th>\n",
       "      <th>2</th>\n",
       "      <th>3</th>\n",
       "    </tr>\n",
       "  </thead>\n",
       "  <tbody>\n",
       "    <tr>\n",
       "      <th>count</th>\n",
       "      <td>1000.000000</td>\n",
       "      <td>1000.000000</td>\n",
       "      <td>1000.000000</td>\n",
       "      <td>1000.000000</td>\n",
       "    </tr>\n",
       "    <tr>\n",
       "      <th>mean</th>\n",
       "      <td>-0.011115</td>\n",
       "      <td>-0.036818</td>\n",
       "      <td>0.026391</td>\n",
       "      <td>0.031449</td>\n",
       "    </tr>\n",
       "    <tr>\n",
       "      <th>std</th>\n",
       "      <td>1.022703</td>\n",
       "      <td>0.986492</td>\n",
       "      <td>1.008024</td>\n",
       "      <td>0.983185</td>\n",
       "    </tr>\n",
       "    <tr>\n",
       "      <th>min</th>\n",
       "      <td>-3.000000</td>\n",
       "      <td>-3.000000</td>\n",
       "      <td>-3.000000</td>\n",
       "      <td>-2.936617</td>\n",
       "    </tr>\n",
       "    <tr>\n",
       "      <th>25%</th>\n",
       "      <td>-0.762319</td>\n",
       "      <td>-0.721525</td>\n",
       "      <td>-0.672077</td>\n",
       "      <td>-0.617186</td>\n",
       "    </tr>\n",
       "    <tr>\n",
       "      <th>50%</th>\n",
       "      <td>0.004835</td>\n",
       "      <td>-0.064189</td>\n",
       "      <td>0.010613</td>\n",
       "      <td>0.023360</td>\n",
       "    </tr>\n",
       "    <tr>\n",
       "      <th>75%</th>\n",
       "      <td>0.661369</td>\n",
       "      <td>0.614052</td>\n",
       "      <td>0.712109</td>\n",
       "      <td>0.701054</td>\n",
       "    </tr>\n",
       "    <tr>\n",
       "      <th>max</th>\n",
       "      <td>3.000000</td>\n",
       "      <td>2.949649</td>\n",
       "      <td>3.000000</td>\n",
       "      <td>2.743422</td>\n",
       "    </tr>\n",
       "  </tbody>\n",
       "</table>\n",
       "</div>"
      ],
      "text/plain": [
       "                 0            1            2            3\n",
       "count  1000.000000  1000.000000  1000.000000  1000.000000\n",
       "mean     -0.011115    -0.036818     0.026391     0.031449\n",
       "std       1.022703     0.986492     1.008024     0.983185\n",
       "min      -3.000000    -3.000000    -3.000000    -2.936617\n",
       "25%      -0.762319    -0.721525    -0.672077    -0.617186\n",
       "50%       0.004835    -0.064189     0.010613     0.023360\n",
       "75%       0.661369     0.614052     0.712109     0.701054\n",
       "max       3.000000     2.949649     3.000000     2.743422"
      ]
     },
     "execution_count": 11,
     "metadata": {},
     "output_type": "execute_result"
    }
   ],
   "source": [
    "# Korvaan kaikki arvot, jotka ovat itseisarvoltaan yli 3, arvolla 3 tai -3\n",
    "\n",
    "df6 = df.copy()\n",
    "\n",
    "# sign tuottaa oikean etumerkin (+/-)\n",
    "df6[abs(df6) > 3] = np.sign(df6) * 3\n",
    "\n",
    "# Tarkistan min ja max\n",
    "df6.describe()"
   ]
  },
  {
   "cell_type": "markdown",
   "metadata": {},
   "source": [
    "## Lisätietoa\n",
    "\n",
    "Data-analytiikka Pythonilla: https://tilastoapu.wordpress.com/python/"
   ]
  }
 ],
 "metadata": {
  "kernelspec": {
   "display_name": "Python 3 (ipykernel)",
   "language": "python",
   "name": "python3"
  },
  "language_info": {
   "codemirror_mode": {
    "name": "ipython",
    "version": 3
   },
   "file_extension": ".py",
   "mimetype": "text/x-python",
   "name": "python",
   "nbconvert_exporter": "python",
   "pygments_lexer": "ipython3",
   "version": "3.9.7"
  }
 },
 "nbformat": 4,
 "nbformat_minor": 2
}
